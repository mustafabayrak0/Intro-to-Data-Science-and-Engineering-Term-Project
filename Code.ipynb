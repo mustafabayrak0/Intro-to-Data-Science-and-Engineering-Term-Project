{
 "cells": [
  {
   "cell_type": "markdown",
   "metadata": {},
   "source": [
    "**Project Title:** Earthquakes in the World \\\n",
    "**Project Team:**Jishin desu!"
   ]
  },
  {
   "cell_type": "markdown",
   "metadata": {},
   "source": [
    "**Problem Definition:** The problem is the difficulties faced by countries in estimating the damage they will receive from an earthquake according to their level of development and in adjusting their budgets according to the earthquake."
   ]
  },
  {
   "cell_type": "code",
   "execution_count": 2,
   "metadata": {
    "colab": {
     "base_uri": "https://localhost:8080/"
    },
    "id": "gaqGEa9vHexm",
    "outputId": "9671f5d7-b9e4-4235-b994-e93071b7a2c3"
   },
   "outputs": [
    {
     "name": "stdout",
     "output_type": "stream",
     "text": [
      "Requirement already satisfied: Basemap in c:\\users\\hp\\anaconda3\\lib\\site-packages (1.3.5)\n",
      "Requirement already satisfied: numpy<1.24,>=1.22 in c:\\users\\hp\\anaconda3\\lib\\site-packages (from Basemap) (1.23.4)\n",
      "Requirement already satisfied: pyshp<2.4,>=1.2 in c:\\users\\hp\\anaconda3\\lib\\site-packages (from Basemap) (2.3.1)\n",
      "Requirement already satisfied: basemap-data<1.4,>=1.3.2 in c:\\users\\hp\\anaconda3\\lib\\site-packages (from Basemap) (1.3.2)\n",
      "Requirement already satisfied: matplotlib<3.6,>=1.5 in c:\\users\\hp\\anaconda3\\lib\\site-packages (from Basemap) (3.5.1)\n",
      "Requirement already satisfied: pyproj<3.4.0,>=1.9.3 in c:\\users\\hp\\anaconda3\\lib\\site-packages (from Basemap) (3.3.1)\n",
      "Requirement already satisfied: fonttools>=4.22.0 in c:\\users\\hp\\anaconda3\\lib\\site-packages (from matplotlib<3.6,>=1.5->Basemap) (4.25.0)\n",
      "Requirement already satisfied: packaging>=20.0 in c:\\users\\hp\\anaconda3\\lib\\site-packages (from matplotlib<3.6,>=1.5->Basemap) (21.3)\n",
      "Requirement already satisfied: pyparsing>=2.2.1 in c:\\users\\hp\\anaconda3\\lib\\site-packages (from matplotlib<3.6,>=1.5->Basemap) (3.0.4)\n",
      "Requirement already satisfied: cycler>=0.10 in c:\\users\\hp\\anaconda3\\lib\\site-packages (from matplotlib<3.6,>=1.5->Basemap) (0.11.0)\n",
      "Requirement already satisfied: kiwisolver>=1.0.1 in c:\\users\\hp\\anaconda3\\lib\\site-packages (from matplotlib<3.6,>=1.5->Basemap) (1.3.2)\n",
      "Requirement already satisfied: python-dateutil>=2.7 in c:\\users\\hp\\anaconda3\\lib\\site-packages (from matplotlib<3.6,>=1.5->Basemap) (2.8.2)\n",
      "Requirement already satisfied: pillow>=6.2.0 in c:\\users\\hp\\anaconda3\\lib\\site-packages (from matplotlib<3.6,>=1.5->Basemap) (9.0.1)\n",
      "Requirement already satisfied: certifi in c:\\users\\hp\\anaconda3\\lib\\site-packages (from pyproj<3.4.0,>=1.9.3->Basemap) (2022.9.24)\n",
      "Requirement already satisfied: six>=1.5 in c:\\users\\hp\\anaconda3\\lib\\site-packages (from python-dateutil>=2.7->matplotlib<3.6,>=1.5->Basemap) (1.16.0)\n",
      "Note: you may need to restart the kernel to use updated packages.\n"
     ]
    }
   ],
   "source": [
    "# Install Basemap\n",
    "%pip install Basemap"
   ]
  },
  {
   "cell_type": "markdown",
   "metadata": {},
   "source": [
    "Import necessary libraries"
   ]
  },
  {
   "cell_type": "code",
   "execution_count": 3,
   "metadata": {
    "id": "sZeZSOrXE1ie"
   },
   "outputs": [],
   "source": [
    "import pandas as pd\n",
    "import matplotlib.pyplot as plt\n",
    "from mpl_toolkits.basemap import Basemap\n",
    "import seaborn as sns\n",
    "import numpy as np\n",
    "from scipy.stats import spearmanr"
   ]
  },
  {
   "cell_type": "markdown",
   "metadata": {},
   "source": [
    "Read csv files"
   ]
  },
  {
   "cell_type": "code",
   "execution_count": 4,
   "metadata": {},
   "outputs": [],
   "source": [
    "ww_eq = pd.read_csv('Worldwide-Earthquake-Database.csv')\n",
    "tech_overall = pd.read_csv('TAI2000-2018_Overall.csv')\n",
    "economy_df = pd.read_csv('economy.csv')\n",
    "df_lexpect = pd.read_csv('led.csv')\n",
    "energy = pd.read_csv('per-capita-energy-use.csv')"
   ]
  },
  {
   "cell_type": "markdown",
   "metadata": {},
   "source": [
    "**EDA OF RAW DATASETS**"
   ]
  },
  {
   "cell_type": "markdown",
   "metadata": {},
   "source": [
    "Describe Raw Earthquakes Dataset"
   ]
  },
  {
   "cell_type": "code",
   "execution_count": 5,
   "metadata": {},
   "outputs": [
    {
     "data": {
      "text/html": [
       "<div>\n",
       "<style scoped>\n",
       "    .dataframe tbody tr th:only-of-type {\n",
       "        vertical-align: middle;\n",
       "    }\n",
       "\n",
       "    .dataframe tbody tr th {\n",
       "        vertical-align: top;\n",
       "    }\n",
       "\n",
       "    .dataframe thead th {\n",
       "        text-align: right;\n",
       "    }\n",
       "</style>\n",
       "<table border=\"1\" class=\"dataframe\">\n",
       "  <thead>\n",
       "    <tr style=\"text-align: right;\">\n",
       "      <th></th>\n",
       "      <th>I_D</th>\n",
       "      <th>YEAR</th>\n",
       "      <th>MONTH</th>\n",
       "      <th>DAY</th>\n",
       "      <th>HOUR</th>\n",
       "      <th>MINUTE</th>\n",
       "      <th>FOCAL_DEPTH</th>\n",
       "      <th>EQ_PRIMARY</th>\n",
       "      <th>EQ_MAG_MW</th>\n",
       "      <th>EQ_MAG_MS</th>\n",
       "      <th>...</th>\n",
       "      <th>TOTAL_MISSING</th>\n",
       "      <th>TOTAL_MISSING_DESCRIPTION</th>\n",
       "      <th>TOTAL_INJURIES</th>\n",
       "      <th>TOTAL_INJURIES_DESCRIPTION</th>\n",
       "      <th>TOTAL_DAMAGE_MILLIONS_DOLLARS</th>\n",
       "      <th>TOTAL_DAMAGE_DESCRIPTION</th>\n",
       "      <th>TOTAL_HOUSES_DESTROYED</th>\n",
       "      <th>TOTAL_HOUSES_DESTROYED_DESCRIPTION</th>\n",
       "      <th>TOTAL_HOUSES_DAMAGED</th>\n",
       "      <th>TOTAL_HOUSES_DAMAGED_DESCRIPTION</th>\n",
       "    </tr>\n",
       "  </thead>\n",
       "  <tbody>\n",
       "    <tr>\n",
       "      <th>count</th>\n",
       "      <td>6193.000000</td>\n",
       "      <td>6193.000000</td>\n",
       "      <td>5786.000000</td>\n",
       "      <td>5632.000000</td>\n",
       "      <td>4151.000000</td>\n",
       "      <td>3946.000000</td>\n",
       "      <td>3228.000000</td>\n",
       "      <td>4402.000000</td>\n",
       "      <td>1321.000000</td>\n",
       "      <td>2928.000000</td>\n",
       "      <td>...</td>\n",
       "      <td>25.00000</td>\n",
       "      <td>26.000000</td>\n",
       "      <td>1253.000000</td>\n",
       "      <td>1433.000000</td>\n",
       "      <td>453.000000</td>\n",
       "      <td>3273.000000</td>\n",
       "      <td>8.130000e+02</td>\n",
       "      <td>1777.000000</td>\n",
       "      <td>4.210000e+02</td>\n",
       "      <td>809.000000</td>\n",
       "    </tr>\n",
       "    <tr>\n",
       "      <th>mean</th>\n",
       "      <td>4771.385112</td>\n",
       "      <td>1805.694009</td>\n",
       "      <td>6.508296</td>\n",
       "      <td>15.741655</td>\n",
       "      <td>11.303060</td>\n",
       "      <td>28.820578</td>\n",
       "      <td>41.123916</td>\n",
       "      <td>6.459223</td>\n",
       "      <td>6.513475</td>\n",
       "      <td>6.574761</td>\n",
       "      <td>...</td>\n",
       "      <td>1910.68000</td>\n",
       "      <td>1.807692</td>\n",
       "      <td>2390.834796</td>\n",
       "      <td>1.951849</td>\n",
       "      <td>1904.812208</td>\n",
       "      <td>2.204400</td>\n",
       "      <td>1.828339e+04</td>\n",
       "      <td>2.697243</td>\n",
       "      <td>5.985086e+04</td>\n",
       "      <td>2.464771</td>\n",
       "    </tr>\n",
       "    <tr>\n",
       "      <th>std</th>\n",
       "      <td>3004.473731</td>\n",
       "      <td>375.314913</td>\n",
       "      <td>3.451206</td>\n",
       "      <td>8.751377</td>\n",
       "      <td>7.031131</td>\n",
       "      <td>17.153131</td>\n",
       "      <td>70.448975</td>\n",
       "      <td>1.044992</td>\n",
       "      <td>0.929940</td>\n",
       "      <td>0.990647</td>\n",
       "      <td>...</td>\n",
       "      <td>8667.79685</td>\n",
       "      <td>1.059027</td>\n",
       "      <td>27489.582539</td>\n",
       "      <td>1.079804</td>\n",
       "      <td>12509.939103</td>\n",
       "      <td>1.039891</td>\n",
       "      <td>1.955296e+05</td>\n",
       "      <td>1.051896</td>\n",
       "      <td>1.023722e+06</td>\n",
       "      <td>1.131921</td>\n",
       "    </tr>\n",
       "    <tr>\n",
       "      <th>min</th>\n",
       "      <td>1.000000</td>\n",
       "      <td>-2150.000000</td>\n",
       "      <td>1.000000</td>\n",
       "      <td>1.000000</td>\n",
       "      <td>0.000000</td>\n",
       "      <td>0.000000</td>\n",
       "      <td>0.000000</td>\n",
       "      <td>1.600000</td>\n",
       "      <td>3.600000</td>\n",
       "      <td>2.100000</td>\n",
       "      <td>...</td>\n",
       "      <td>1.00000</td>\n",
       "      <td>1.000000</td>\n",
       "      <td>1.000000</td>\n",
       "      <td>1.000000</td>\n",
       "      <td>0.010000</td>\n",
       "      <td>1.000000</td>\n",
       "      <td>1.000000e+00</td>\n",
       "      <td>1.000000</td>\n",
       "      <td>1.000000e+00</td>\n",
       "      <td>1.000000</td>\n",
       "    </tr>\n",
       "    <tr>\n",
       "      <th>25%</th>\n",
       "      <td>2186.000000</td>\n",
       "      <td>1820.000000</td>\n",
       "      <td>4.000000</td>\n",
       "      <td>8.000000</td>\n",
       "      <td>5.000000</td>\n",
       "      <td>14.000000</td>\n",
       "      <td>10.000000</td>\n",
       "      <td>5.700000</td>\n",
       "      <td>5.800000</td>\n",
       "      <td>5.800000</td>\n",
       "      <td>...</td>\n",
       "      <td>5.00000</td>\n",
       "      <td>1.000000</td>\n",
       "      <td>10.000000</td>\n",
       "      <td>1.000000</td>\n",
       "      <td>5.000000</td>\n",
       "      <td>1.000000</td>\n",
       "      <td>6.300000e+01</td>\n",
       "      <td>2.000000</td>\n",
       "      <td>9.000000e+01</td>\n",
       "      <td>1.000000</td>\n",
       "    </tr>\n",
       "    <tr>\n",
       "      <th>50%</th>\n",
       "      <td>4688.000000</td>\n",
       "      <td>1928.000000</td>\n",
       "      <td>7.000000</td>\n",
       "      <td>16.000000</td>\n",
       "      <td>11.000000</td>\n",
       "      <td>29.000000</td>\n",
       "      <td>25.000000</td>\n",
       "      <td>6.500000</td>\n",
       "      <td>6.500000</td>\n",
       "      <td>6.600000</td>\n",
       "      <td>...</td>\n",
       "      <td>21.00000</td>\n",
       "      <td>1.000000</td>\n",
       "      <td>41.000000</td>\n",
       "      <td>1.000000</td>\n",
       "      <td>30.000000</td>\n",
       "      <td>2.000000</td>\n",
       "      <td>5.060000e+02</td>\n",
       "      <td>3.000000</td>\n",
       "      <td>6.760000e+02</td>\n",
       "      <td>3.000000</td>\n",
       "    </tr>\n",
       "    <tr>\n",
       "      <th>75%</th>\n",
       "      <td>6589.000000</td>\n",
       "      <td>1988.000000</td>\n",
       "      <td>9.000000</td>\n",
       "      <td>23.000000</td>\n",
       "      <td>17.000000</td>\n",
       "      <td>43.750000</td>\n",
       "      <td>40.000000</td>\n",
       "      <td>7.300000</td>\n",
       "      <td>7.200000</td>\n",
       "      <td>7.300000</td>\n",
       "      <td>...</td>\n",
       "      <td>138.00000</td>\n",
       "      <td>3.000000</td>\n",
       "      <td>200.000000</td>\n",
       "      <td>3.000000</td>\n",
       "      <td>300.000000</td>\n",
       "      <td>3.000000</td>\n",
       "      <td>3.600000e+03</td>\n",
       "      <td>3.000000</td>\n",
       "      <td>3.000000e+03</td>\n",
       "      <td>3.000000</td>\n",
       "    </tr>\n",
       "    <tr>\n",
       "      <th>max</th>\n",
       "      <td>10501.000000</td>\n",
       "      <td>2020.000000</td>\n",
       "      <td>12.000000</td>\n",
       "      <td>31.000000</td>\n",
       "      <td>23.000000</td>\n",
       "      <td>59.000000</td>\n",
       "      <td>675.000000</td>\n",
       "      <td>9.500000</td>\n",
       "      <td>9.500000</td>\n",
       "      <td>9.100000</td>\n",
       "      <td>...</td>\n",
       "      <td>43476.00000</td>\n",
       "      <td>4.000000</td>\n",
       "      <td>799000.000000</td>\n",
       "      <td>4.000000</td>\n",
       "      <td>220085.456000</td>\n",
       "      <td>4.000000</td>\n",
       "      <td>5.360000e+06</td>\n",
       "      <td>4.000000</td>\n",
       "      <td>2.100000e+07</td>\n",
       "      <td>4.000000</td>\n",
       "    </tr>\n",
       "  </tbody>\n",
       "</table>\n",
       "<p>8 rows × 40 columns</p>\n",
       "</div>"
      ],
      "text/plain": [
       "                I_D         YEAR        MONTH          DAY         HOUR  \\\n",
       "count   6193.000000  6193.000000  5786.000000  5632.000000  4151.000000   \n",
       "mean    4771.385112  1805.694009     6.508296    15.741655    11.303060   \n",
       "std     3004.473731   375.314913     3.451206     8.751377     7.031131   \n",
       "min        1.000000 -2150.000000     1.000000     1.000000     0.000000   \n",
       "25%     2186.000000  1820.000000     4.000000     8.000000     5.000000   \n",
       "50%     4688.000000  1928.000000     7.000000    16.000000    11.000000   \n",
       "75%     6589.000000  1988.000000     9.000000    23.000000    17.000000   \n",
       "max    10501.000000  2020.000000    12.000000    31.000000    23.000000   \n",
       "\n",
       "            MINUTE  FOCAL_DEPTH   EQ_PRIMARY    EQ_MAG_MW    EQ_MAG_MS  ...  \\\n",
       "count  3946.000000  3228.000000  4402.000000  1321.000000  2928.000000  ...   \n",
       "mean     28.820578    41.123916     6.459223     6.513475     6.574761  ...   \n",
       "std      17.153131    70.448975     1.044992     0.929940     0.990647  ...   \n",
       "min       0.000000     0.000000     1.600000     3.600000     2.100000  ...   \n",
       "25%      14.000000    10.000000     5.700000     5.800000     5.800000  ...   \n",
       "50%      29.000000    25.000000     6.500000     6.500000     6.600000  ...   \n",
       "75%      43.750000    40.000000     7.300000     7.200000     7.300000  ...   \n",
       "max      59.000000   675.000000     9.500000     9.500000     9.100000  ...   \n",
       "\n",
       "       TOTAL_MISSING  TOTAL_MISSING_DESCRIPTION  TOTAL_INJURIES  \\\n",
       "count       25.00000                  26.000000     1253.000000   \n",
       "mean      1910.68000                   1.807692     2390.834796   \n",
       "std       8667.79685                   1.059027    27489.582539   \n",
       "min          1.00000                   1.000000        1.000000   \n",
       "25%          5.00000                   1.000000       10.000000   \n",
       "50%         21.00000                   1.000000       41.000000   \n",
       "75%        138.00000                   3.000000      200.000000   \n",
       "max      43476.00000                   4.000000   799000.000000   \n",
       "\n",
       "       TOTAL_INJURIES_DESCRIPTION  TOTAL_DAMAGE_MILLIONS_DOLLARS  \\\n",
       "count                 1433.000000                     453.000000   \n",
       "mean                     1.951849                    1904.812208   \n",
       "std                      1.079804                   12509.939103   \n",
       "min                      1.000000                       0.010000   \n",
       "25%                      1.000000                       5.000000   \n",
       "50%                      1.000000                      30.000000   \n",
       "75%                      3.000000                     300.000000   \n",
       "max                      4.000000                  220085.456000   \n",
       "\n",
       "       TOTAL_DAMAGE_DESCRIPTION  TOTAL_HOUSES_DESTROYED  \\\n",
       "count               3273.000000            8.130000e+02   \n",
       "mean                   2.204400            1.828339e+04   \n",
       "std                    1.039891            1.955296e+05   \n",
       "min                    1.000000            1.000000e+00   \n",
       "25%                    1.000000            6.300000e+01   \n",
       "50%                    2.000000            5.060000e+02   \n",
       "75%                    3.000000            3.600000e+03   \n",
       "max                    4.000000            5.360000e+06   \n",
       "\n",
       "       TOTAL_HOUSES_DESTROYED_DESCRIPTION  TOTAL_HOUSES_DAMAGED  \\\n",
       "count                         1777.000000          4.210000e+02   \n",
       "mean                             2.697243          5.985086e+04   \n",
       "std                              1.051896          1.023722e+06   \n",
       "min                              1.000000          1.000000e+00   \n",
       "25%                              2.000000          9.000000e+01   \n",
       "50%                              3.000000          6.760000e+02   \n",
       "75%                              3.000000          3.000000e+03   \n",
       "max                              4.000000          2.100000e+07   \n",
       "\n",
       "       TOTAL_HOUSES_DAMAGED_DESCRIPTION  \n",
       "count                        809.000000  \n",
       "mean                           2.464771  \n",
       "std                            1.131921  \n",
       "min                            1.000000  \n",
       "25%                            1.000000  \n",
       "50%                            3.000000  \n",
       "75%                            3.000000  \n",
       "max                            4.000000  \n",
       "\n",
       "[8 rows x 40 columns]"
      ]
     },
     "execution_count": 5,
     "metadata": {},
     "output_type": "execute_result"
    }
   ],
   "source": [
    "ww_eq.describe()"
   ]
  },
  {
   "cell_type": "markdown",
   "metadata": {},
   "source": [
    "Show number of missing values in Raw Earthquakes Dataset"
   ]
  },
  {
   "cell_type": "code",
   "execution_count": 6,
   "metadata": {},
   "outputs": [
    {
     "data": {
      "text/plain": [
       "I_D                                      0\n",
       "FLAG_TSUNAMI                             0\n",
       "YEAR                                     0\n",
       "MONTH                                  407\n",
       "DAY                                    561\n",
       "HOUR                                  2042\n",
       "MINUTE                                2247\n",
       "SECOND                                1846\n",
       "FOCAL_DEPTH                           2965\n",
       "EQ_PRIMARY                            1791\n",
       "EQ_MAG_MW                             4872\n",
       "EQ_MAG_MS                             3265\n",
       "EQ_MAG_MB                             4391\n",
       "EQ_MAG_ML                             6009\n",
       "EQ_MAG_MFA                            6179\n",
       "EQ_MAG_UNK                            5416\n",
       "INTENSITY                             3378\n",
       "COUNTRY                                  0\n",
       "STATE                                 5872\n",
       "LOCATION_NAME                            1\n",
       "LATITUDE                                49\n",
       "LONGITUDE                               49\n",
       "REGION_CODE                              1\n",
       "DEATHS                                4129\n",
       "DEATHS_DESCRIPTION                    3649\n",
       "MISSING                               6172\n",
       "MISSING_DESCRIPTION                   6172\n",
       "INJURIES                              4955\n",
       "INJURIES_DESCRIPTION                  4769\n",
       "DAMAGE_MILLIONS_DOLLARS               5685\n",
       "DAMAGE_DESCRIPTION                    1762\n",
       "HOUSES_DESTROYED                      5411\n",
       "HOUSES_DESTROYED_DESCRIPTION          4495\n",
       "HOUSES_DAMAGED                        5710\n",
       "HOUSES_DAMAGED_DESCRIPTION            5265\n",
       "TOTAL_DEATHS                          4500\n",
       "TOTAL_DEATHS_DESCRIPTION              4164\n",
       "TOTAL_MISSING                         6168\n",
       "TOTAL_MISSING_DESCRIPTION             6167\n",
       "TOTAL_INJURIES                        4940\n",
       "TOTAL_INJURIES_DESCRIPTION            4760\n",
       "TOTAL_DAMAGE_MILLIONS_DOLLARS         5740\n",
       "TOTAL_DAMAGE_DESCRIPTION              2920\n",
       "TOTAL_HOUSES_DESTROYED                5380\n",
       "TOTAL_HOUSES_DESTROYED_DESCRIPTION    4416\n",
       "TOTAL_HOUSES_DAMAGED                  5772\n",
       "TOTAL_HOUSES_DAMAGED_DESCRIPTION      5384\n",
       "dtype: int64"
      ]
     },
     "execution_count": 6,
     "metadata": {},
     "output_type": "execute_result"
    }
   ],
   "source": [
    "ww_eq.isnull().sum()"
   ]
  },
  {
   "cell_type": "markdown",
   "metadata": {},
   "source": [
    "Describe Raw Technology Dataset"
   ]
  },
  {
   "cell_type": "code",
   "execution_count": 7,
   "metadata": {},
   "outputs": [
    {
     "data": {
      "text/html": [
       "<div>\n",
       "<style scoped>\n",
       "    .dataframe tbody tr th:only-of-type {\n",
       "        vertical-align: middle;\n",
       "    }\n",
       "\n",
       "    .dataframe tbody tr th {\n",
       "        vertical-align: top;\n",
       "    }\n",
       "\n",
       "    .dataframe thead th {\n",
       "        text-align: right;\n",
       "    }\n",
       "</style>\n",
       "<table border=\"1\" class=\"dataframe\">\n",
       "  <thead>\n",
       "    <tr style=\"text-align: right;\">\n",
       "      <th></th>\n",
       "      <th>2000</th>\n",
       "      <th>2001</th>\n",
       "      <th>2002</th>\n",
       "      <th>2003</th>\n",
       "      <th>2004</th>\n",
       "      <th>2005</th>\n",
       "      <th>2006</th>\n",
       "      <th>2007</th>\n",
       "      <th>2008</th>\n",
       "      <th>2009</th>\n",
       "      <th>2010</th>\n",
       "      <th>2011</th>\n",
       "      <th>2012</th>\n",
       "      <th>2013</th>\n",
       "      <th>2014</th>\n",
       "      <th>2015</th>\n",
       "      <th>2016</th>\n",
       "      <th>2017</th>\n",
       "      <th>2018</th>\n",
       "    </tr>\n",
       "  </thead>\n",
       "  <tbody>\n",
       "    <tr>\n",
       "      <th>count</th>\n",
       "      <td>179.000000</td>\n",
       "      <td>179.000000</td>\n",
       "      <td>179.000000</td>\n",
       "      <td>179.000000</td>\n",
       "      <td>179.000000</td>\n",
       "      <td>179.000000</td>\n",
       "      <td>179.000000</td>\n",
       "      <td>179.000000</td>\n",
       "      <td>179.000000</td>\n",
       "      <td>179.000000</td>\n",
       "      <td>179.000000</td>\n",
       "      <td>179.000000</td>\n",
       "      <td>179.000000</td>\n",
       "      <td>179.000000</td>\n",
       "      <td>179.000000</td>\n",
       "      <td>179.000000</td>\n",
       "      <td>179.000000</td>\n",
       "      <td>179.000000</td>\n",
       "      <td>179.000000</td>\n",
       "    </tr>\n",
       "    <tr>\n",
       "      <th>mean</th>\n",
       "      <td>0.229904</td>\n",
       "      <td>0.250430</td>\n",
       "      <td>0.257215</td>\n",
       "      <td>0.263075</td>\n",
       "      <td>0.274028</td>\n",
       "      <td>0.280425</td>\n",
       "      <td>0.279494</td>\n",
       "      <td>0.288205</td>\n",
       "      <td>0.291266</td>\n",
       "      <td>0.295687</td>\n",
       "      <td>0.309952</td>\n",
       "      <td>0.319973</td>\n",
       "      <td>0.325959</td>\n",
       "      <td>0.329156</td>\n",
       "      <td>0.327264</td>\n",
       "      <td>0.333766</td>\n",
       "      <td>0.329034</td>\n",
       "      <td>0.335555</td>\n",
       "      <td>0.337670</td>\n",
       "    </tr>\n",
       "    <tr>\n",
       "      <th>std</th>\n",
       "      <td>0.146570</td>\n",
       "      <td>0.159237</td>\n",
       "      <td>0.159261</td>\n",
       "      <td>0.159828</td>\n",
       "      <td>0.164636</td>\n",
       "      <td>0.165993</td>\n",
       "      <td>0.159354</td>\n",
       "      <td>0.159466</td>\n",
       "      <td>0.155956</td>\n",
       "      <td>0.155177</td>\n",
       "      <td>0.158154</td>\n",
       "      <td>0.157514</td>\n",
       "      <td>0.157475</td>\n",
       "      <td>0.153702</td>\n",
       "      <td>0.147819</td>\n",
       "      <td>0.147369</td>\n",
       "      <td>0.141775</td>\n",
       "      <td>0.138377</td>\n",
       "      <td>0.137876</td>\n",
       "    </tr>\n",
       "    <tr>\n",
       "      <th>min</th>\n",
       "      <td>0.004489</td>\n",
       "      <td>0.006374</td>\n",
       "      <td>0.014635</td>\n",
       "      <td>0.023427</td>\n",
       "      <td>0.028542</td>\n",
       "      <td>0.029980</td>\n",
       "      <td>0.031243</td>\n",
       "      <td>0.031928</td>\n",
       "      <td>0.032855</td>\n",
       "      <td>0.032066</td>\n",
       "      <td>0.033421</td>\n",
       "      <td>0.038041</td>\n",
       "      <td>0.037976</td>\n",
       "      <td>0.052148</td>\n",
       "      <td>0.053703</td>\n",
       "      <td>0.055022</td>\n",
       "      <td>0.056157</td>\n",
       "      <td>0.058962</td>\n",
       "      <td>0.060858</td>\n",
       "    </tr>\n",
       "    <tr>\n",
       "      <th>25%</th>\n",
       "      <td>0.105433</td>\n",
       "      <td>0.115489</td>\n",
       "      <td>0.120990</td>\n",
       "      <td>0.124071</td>\n",
       "      <td>0.129307</td>\n",
       "      <td>0.132672</td>\n",
       "      <td>0.135719</td>\n",
       "      <td>0.143179</td>\n",
       "      <td>0.139876</td>\n",
       "      <td>0.153475</td>\n",
       "      <td>0.161159</td>\n",
       "      <td>0.166232</td>\n",
       "      <td>0.167793</td>\n",
       "      <td>0.179679</td>\n",
       "      <td>0.182978</td>\n",
       "      <td>0.191644</td>\n",
       "      <td>0.203741</td>\n",
       "      <td>0.211083</td>\n",
       "      <td>0.222784</td>\n",
       "    </tr>\n",
       "    <tr>\n",
       "      <th>50%</th>\n",
       "      <td>0.205745</td>\n",
       "      <td>0.221641</td>\n",
       "      <td>0.227778</td>\n",
       "      <td>0.237907</td>\n",
       "      <td>0.248563</td>\n",
       "      <td>0.264933</td>\n",
       "      <td>0.267565</td>\n",
       "      <td>0.284163</td>\n",
       "      <td>0.291559</td>\n",
       "      <td>0.303021</td>\n",
       "      <td>0.311991</td>\n",
       "      <td>0.321104</td>\n",
       "      <td>0.338341</td>\n",
       "      <td>0.338641</td>\n",
       "      <td>0.340302</td>\n",
       "      <td>0.340604</td>\n",
       "      <td>0.335009</td>\n",
       "      <td>0.343145</td>\n",
       "      <td>0.346213</td>\n",
       "    </tr>\n",
       "    <tr>\n",
       "      <th>75%</th>\n",
       "      <td>0.312794</td>\n",
       "      <td>0.345084</td>\n",
       "      <td>0.353032</td>\n",
       "      <td>0.357294</td>\n",
       "      <td>0.368550</td>\n",
       "      <td>0.384746</td>\n",
       "      <td>0.387414</td>\n",
       "      <td>0.401346</td>\n",
       "      <td>0.404994</td>\n",
       "      <td>0.418692</td>\n",
       "      <td>0.430112</td>\n",
       "      <td>0.449231</td>\n",
       "      <td>0.457429</td>\n",
       "      <td>0.462549</td>\n",
       "      <td>0.451025</td>\n",
       "      <td>0.455110</td>\n",
       "      <td>0.446071</td>\n",
       "      <td>0.452795</td>\n",
       "      <td>0.453711</td>\n",
       "    </tr>\n",
       "    <tr>\n",
       "      <th>max</th>\n",
       "      <td>0.750485</td>\n",
       "      <td>0.801828</td>\n",
       "      <td>0.796778</td>\n",
       "      <td>0.790398</td>\n",
       "      <td>0.796808</td>\n",
       "      <td>0.797928</td>\n",
       "      <td>0.782319</td>\n",
       "      <td>0.789129</td>\n",
       "      <td>0.775479</td>\n",
       "      <td>0.759207</td>\n",
       "      <td>0.770777</td>\n",
       "      <td>0.752766</td>\n",
       "      <td>0.747409</td>\n",
       "      <td>0.720216</td>\n",
       "      <td>0.711493</td>\n",
       "      <td>0.717863</td>\n",
       "      <td>0.707223</td>\n",
       "      <td>0.694865</td>\n",
       "      <td>0.679527</td>\n",
       "    </tr>\n",
       "  </tbody>\n",
       "</table>\n",
       "</div>"
      ],
      "text/plain": [
       "             2000        2001        2002        2003        2004        2005  \\\n",
       "count  179.000000  179.000000  179.000000  179.000000  179.000000  179.000000   \n",
       "mean     0.229904    0.250430    0.257215    0.263075    0.274028    0.280425   \n",
       "std      0.146570    0.159237    0.159261    0.159828    0.164636    0.165993   \n",
       "min      0.004489    0.006374    0.014635    0.023427    0.028542    0.029980   \n",
       "25%      0.105433    0.115489    0.120990    0.124071    0.129307    0.132672   \n",
       "50%      0.205745    0.221641    0.227778    0.237907    0.248563    0.264933   \n",
       "75%      0.312794    0.345084    0.353032    0.357294    0.368550    0.384746   \n",
       "max      0.750485    0.801828    0.796778    0.790398    0.796808    0.797928   \n",
       "\n",
       "             2006        2007        2008        2009        2010        2011  \\\n",
       "count  179.000000  179.000000  179.000000  179.000000  179.000000  179.000000   \n",
       "mean     0.279494    0.288205    0.291266    0.295687    0.309952    0.319973   \n",
       "std      0.159354    0.159466    0.155956    0.155177    0.158154    0.157514   \n",
       "min      0.031243    0.031928    0.032855    0.032066    0.033421    0.038041   \n",
       "25%      0.135719    0.143179    0.139876    0.153475    0.161159    0.166232   \n",
       "50%      0.267565    0.284163    0.291559    0.303021    0.311991    0.321104   \n",
       "75%      0.387414    0.401346    0.404994    0.418692    0.430112    0.449231   \n",
       "max      0.782319    0.789129    0.775479    0.759207    0.770777    0.752766   \n",
       "\n",
       "             2012        2013        2014        2015        2016        2017  \\\n",
       "count  179.000000  179.000000  179.000000  179.000000  179.000000  179.000000   \n",
       "mean     0.325959    0.329156    0.327264    0.333766    0.329034    0.335555   \n",
       "std      0.157475    0.153702    0.147819    0.147369    0.141775    0.138377   \n",
       "min      0.037976    0.052148    0.053703    0.055022    0.056157    0.058962   \n",
       "25%      0.167793    0.179679    0.182978    0.191644    0.203741    0.211083   \n",
       "50%      0.338341    0.338641    0.340302    0.340604    0.335009    0.343145   \n",
       "75%      0.457429    0.462549    0.451025    0.455110    0.446071    0.452795   \n",
       "max      0.747409    0.720216    0.711493    0.717863    0.707223    0.694865   \n",
       "\n",
       "             2018  \n",
       "count  179.000000  \n",
       "mean     0.337670  \n",
       "std      0.137876  \n",
       "min      0.060858  \n",
       "25%      0.222784  \n",
       "50%      0.346213  \n",
       "75%      0.453711  \n",
       "max      0.679527  "
      ]
     },
     "execution_count": 7,
     "metadata": {},
     "output_type": "execute_result"
    }
   ],
   "source": [
    "tech_overall.describe()"
   ]
  },
  {
   "cell_type": "markdown",
   "metadata": {},
   "source": [
    "Show number of missing values in Raw Technology Dataset"
   ]
  },
  {
   "cell_type": "code",
   "execution_count": 8,
   "metadata": {},
   "outputs": [
    {
     "data": {
      "text/plain": [
       "Country_Name    0\n",
       "Country_Code    0\n",
       "2000            0\n",
       "2001            0\n",
       "2002            0\n",
       "2003            0\n",
       "2004            0\n",
       "2005            0\n",
       "2006            0\n",
       "2007            0\n",
       "2008            0\n",
       "2009            0\n",
       "2010            0\n",
       "2011            0\n",
       "2012            0\n",
       "2013            0\n",
       "2014            0\n",
       "2015            0\n",
       "2016            0\n",
       "2017            0\n",
       "2018            0\n",
       "dtype: int64"
      ]
     },
     "execution_count": 8,
     "metadata": {},
     "output_type": "execute_result"
    }
   ],
   "source": [
    "tech_overall.isnull().sum()"
   ]
  },
  {
   "cell_type": "markdown",
   "metadata": {},
   "source": [
    "Describe Raw Economy Dataset"
   ]
  },
  {
   "cell_type": "code",
   "execution_count": 9,
   "metadata": {},
   "outputs": [
    {
     "data": {
      "text/html": [
       "<div>\n",
       "<style scoped>\n",
       "    .dataframe tbody tr th:only-of-type {\n",
       "        vertical-align: middle;\n",
       "    }\n",
       "\n",
       "    .dataframe tbody tr th {\n",
       "        vertical-align: top;\n",
       "    }\n",
       "\n",
       "    .dataframe thead th {\n",
       "        text-align: right;\n",
       "    }\n",
       "</style>\n",
       "<table border=\"1\" class=\"dataframe\">\n",
       "  <thead>\n",
       "    <tr style=\"text-align: right;\">\n",
       "      <th></th>\n",
       "      <th>Series Name</th>\n",
       "      <th>Series Code</th>\n",
       "      <th>Country Name</th>\n",
       "      <th>Country Code</th>\n",
       "      <th>1960 [YR1960]</th>\n",
       "      <th>1961 [YR1961]</th>\n",
       "      <th>1962 [YR1962]</th>\n",
       "      <th>1963 [YR1963]</th>\n",
       "      <th>1964 [YR1964]</th>\n",
       "      <th>1965 [YR1965]</th>\n",
       "      <th>...</th>\n",
       "      <th>2012 [YR2012]</th>\n",
       "      <th>2013 [YR2013]</th>\n",
       "      <th>2014 [YR2014]</th>\n",
       "      <th>2015 [YR2015]</th>\n",
       "      <th>2016 [YR2016]</th>\n",
       "      <th>2017 [YR2017]</th>\n",
       "      <th>2018 [YR2018]</th>\n",
       "      <th>2019 [YR2019]</th>\n",
       "      <th>2020 [YR2020]</th>\n",
       "      <th>2021 [YR2021]</th>\n",
       "    </tr>\n",
       "  </thead>\n",
       "  <tbody>\n",
       "    <tr>\n",
       "      <th>count</th>\n",
       "      <td>268</td>\n",
       "      <td>266</td>\n",
       "      <td>266</td>\n",
       "      <td>266</td>\n",
       "      <td>266</td>\n",
       "      <td>266</td>\n",
       "      <td>266</td>\n",
       "      <td>266</td>\n",
       "      <td>266</td>\n",
       "      <td>266</td>\n",
       "      <td>...</td>\n",
       "      <td>266</td>\n",
       "      <td>266</td>\n",
       "      <td>266</td>\n",
       "      <td>266</td>\n",
       "      <td>266</td>\n",
       "      <td>266</td>\n",
       "      <td>266</td>\n",
       "      <td>266</td>\n",
       "      <td>266</td>\n",
       "      <td>266</td>\n",
       "    </tr>\n",
       "    <tr>\n",
       "      <th>unique</th>\n",
       "      <td>3</td>\n",
       "      <td>1</td>\n",
       "      <td>266</td>\n",
       "      <td>266</td>\n",
       "      <td>133</td>\n",
       "      <td>134</td>\n",
       "      <td>136</td>\n",
       "      <td>136</td>\n",
       "      <td>138</td>\n",
       "      <td>147</td>\n",
       "      <td>...</td>\n",
       "      <td>256</td>\n",
       "      <td>257</td>\n",
       "      <td>258</td>\n",
       "      <td>257</td>\n",
       "      <td>256</td>\n",
       "      <td>256</td>\n",
       "      <td>256</td>\n",
       "      <td>254</td>\n",
       "      <td>250</td>\n",
       "      <td>228</td>\n",
       "    </tr>\n",
       "    <tr>\n",
       "      <th>top</th>\n",
       "      <td>GDP (current US$)</td>\n",
       "      <td>NY.GDP.MKTP.CD</td>\n",
       "      <td>Afghanistan</td>\n",
       "      <td>AFG</td>\n",
       "      <td>..</td>\n",
       "      <td>..</td>\n",
       "      <td>..</td>\n",
       "      <td>..</td>\n",
       "      <td>..</td>\n",
       "      <td>..</td>\n",
       "      <td>...</td>\n",
       "      <td>..</td>\n",
       "      <td>..</td>\n",
       "      <td>..</td>\n",
       "      <td>..</td>\n",
       "      <td>..</td>\n",
       "      <td>..</td>\n",
       "      <td>..</td>\n",
       "      <td>..</td>\n",
       "      <td>..</td>\n",
       "      <td>..</td>\n",
       "    </tr>\n",
       "    <tr>\n",
       "      <th>freq</th>\n",
       "      <td>266</td>\n",
       "      <td>266</td>\n",
       "      <td>1</td>\n",
       "      <td>1</td>\n",
       "      <td>133</td>\n",
       "      <td>131</td>\n",
       "      <td>129</td>\n",
       "      <td>129</td>\n",
       "      <td>129</td>\n",
       "      <td>118</td>\n",
       "      <td>...</td>\n",
       "      <td>9</td>\n",
       "      <td>8</td>\n",
       "      <td>7</td>\n",
       "      <td>8</td>\n",
       "      <td>9</td>\n",
       "      <td>9</td>\n",
       "      <td>9</td>\n",
       "      <td>11</td>\n",
       "      <td>15</td>\n",
       "      <td>37</td>\n",
       "    </tr>\n",
       "  </tbody>\n",
       "</table>\n",
       "<p>4 rows × 66 columns</p>\n",
       "</div>"
      ],
      "text/plain": [
       "              Series Name     Series Code Country Name Country Code  \\\n",
       "count                 268             266          266          266   \n",
       "unique                  3               1          266          266   \n",
       "top     GDP (current US$)  NY.GDP.MKTP.CD  Afghanistan          AFG   \n",
       "freq                  266             266            1            1   \n",
       "\n",
       "       1960 [YR1960] 1961 [YR1961] 1962 [YR1962] 1963 [YR1963] 1964 [YR1964]  \\\n",
       "count            266           266           266           266           266   \n",
       "unique           133           134           136           136           138   \n",
       "top               ..            ..            ..            ..            ..   \n",
       "freq             133           131           129           129           129   \n",
       "\n",
       "       1965 [YR1965]  ... 2012 [YR2012] 2013 [YR2013] 2014 [YR2014]  \\\n",
       "count            266  ...           266           266           266   \n",
       "unique           147  ...           256           257           258   \n",
       "top               ..  ...            ..            ..            ..   \n",
       "freq             118  ...             9             8             7   \n",
       "\n",
       "       2015 [YR2015] 2016 [YR2016] 2017 [YR2017] 2018 [YR2018] 2019 [YR2019]  \\\n",
       "count            266           266           266           266           266   \n",
       "unique           257           256           256           256           254   \n",
       "top               ..            ..            ..            ..            ..   \n",
       "freq               8             9             9             9            11   \n",
       "\n",
       "       2020 [YR2020] 2021 [YR2021]  \n",
       "count            266           266  \n",
       "unique           250           228  \n",
       "top               ..            ..  \n",
       "freq              15            37  \n",
       "\n",
       "[4 rows x 66 columns]"
      ]
     },
     "execution_count": 9,
     "metadata": {},
     "output_type": "execute_result"
    }
   ],
   "source": [
    "economy_df.describe()"
   ]
  },
  {
   "cell_type": "markdown",
   "metadata": {},
   "source": [
    "Show number of missing values in Raw Economy Dataset"
   ]
  },
  {
   "cell_type": "code",
   "execution_count": 10,
   "metadata": {},
   "outputs": [
    {
     "data": {
      "text/plain": [
       "Series Name      3\n",
       "Series Code      5\n",
       "Country Name     5\n",
       "Country Code     5\n",
       "1960 [YR1960]    5\n",
       "                ..\n",
       "2017 [YR2017]    5\n",
       "2018 [YR2018]    5\n",
       "2019 [YR2019]    5\n",
       "2020 [YR2020]    5\n",
       "2021 [YR2021]    5\n",
       "Length: 66, dtype: int64"
      ]
     },
     "execution_count": 10,
     "metadata": {},
     "output_type": "execute_result"
    }
   ],
   "source": [
    "economy_df.isnull().sum()"
   ]
  },
  {
   "cell_type": "markdown",
   "metadata": {},
   "source": [
    "Describe Raw Life Expectancy Dataset"
   ]
  },
  {
   "cell_type": "code",
   "execution_count": 11,
   "metadata": {},
   "outputs": [
    {
     "data": {
      "text/html": [
       "<div>\n",
       "<style scoped>\n",
       "    .dataframe tbody tr th:only-of-type {\n",
       "        vertical-align: middle;\n",
       "    }\n",
       "\n",
       "    .dataframe tbody tr th {\n",
       "        vertical-align: top;\n",
       "    }\n",
       "\n",
       "    .dataframe thead th {\n",
       "        text-align: right;\n",
       "    }\n",
       "</style>\n",
       "<table border=\"1\" class=\"dataframe\">\n",
       "  <thead>\n",
       "    <tr style=\"text-align: right;\">\n",
       "      <th></th>\n",
       "      <th>Year</th>\n",
       "      <th>Lifeexpectancy</th>\n",
       "      <th>AdultMortality</th>\n",
       "      <th>infantdeaths</th>\n",
       "      <th>Alcohol</th>\n",
       "      <th>percentageexpenditure</th>\n",
       "      <th>HepatitisB</th>\n",
       "      <th>Measles</th>\n",
       "      <th>BMI</th>\n",
       "      <th>under-fivedeaths</th>\n",
       "      <th>Polio</th>\n",
       "      <th>Totalexpenditure</th>\n",
       "      <th>Diphtheria</th>\n",
       "      <th>HIV/AIDS</th>\n",
       "      <th>GDP</th>\n",
       "      <th>Population</th>\n",
       "      <th>thinness1-19years</th>\n",
       "      <th>thinness5-9years</th>\n",
       "      <th>Incomecompositionofresources</th>\n",
       "      <th>Schooling</th>\n",
       "    </tr>\n",
       "  </thead>\n",
       "  <tbody>\n",
       "    <tr>\n",
       "      <th>count</th>\n",
       "      <td>2938.000000</td>\n",
       "      <td>2928.000000</td>\n",
       "      <td>2928.000000</td>\n",
       "      <td>2938.000000</td>\n",
       "      <td>2744.000000</td>\n",
       "      <td>2938.000000</td>\n",
       "      <td>2385.000000</td>\n",
       "      <td>2938.000000</td>\n",
       "      <td>2904.000000</td>\n",
       "      <td>2938.000000</td>\n",
       "      <td>2919.000000</td>\n",
       "      <td>2712.00000</td>\n",
       "      <td>2919.000000</td>\n",
       "      <td>2938.000000</td>\n",
       "      <td>2490.000000</td>\n",
       "      <td>2.286000e+03</td>\n",
       "      <td>2904.000000</td>\n",
       "      <td>2904.000000</td>\n",
       "      <td>2771.000000</td>\n",
       "      <td>2775.000000</td>\n",
       "    </tr>\n",
       "    <tr>\n",
       "      <th>mean</th>\n",
       "      <td>2007.518720</td>\n",
       "      <td>69.224932</td>\n",
       "      <td>164.796448</td>\n",
       "      <td>30.303948</td>\n",
       "      <td>4.602861</td>\n",
       "      <td>738.251295</td>\n",
       "      <td>80.940461</td>\n",
       "      <td>2419.592240</td>\n",
       "      <td>38.321247</td>\n",
       "      <td>42.035739</td>\n",
       "      <td>82.550188</td>\n",
       "      <td>5.93819</td>\n",
       "      <td>82.324084</td>\n",
       "      <td>1.742103</td>\n",
       "      <td>7483.158469</td>\n",
       "      <td>1.275338e+07</td>\n",
       "      <td>4.839704</td>\n",
       "      <td>4.870317</td>\n",
       "      <td>0.627551</td>\n",
       "      <td>11.992793</td>\n",
       "    </tr>\n",
       "    <tr>\n",
       "      <th>std</th>\n",
       "      <td>4.613841</td>\n",
       "      <td>9.523867</td>\n",
       "      <td>124.292079</td>\n",
       "      <td>117.926501</td>\n",
       "      <td>4.052413</td>\n",
       "      <td>1987.914858</td>\n",
       "      <td>25.070016</td>\n",
       "      <td>11467.272489</td>\n",
       "      <td>20.044034</td>\n",
       "      <td>160.445548</td>\n",
       "      <td>23.428046</td>\n",
       "      <td>2.49832</td>\n",
       "      <td>23.716912</td>\n",
       "      <td>5.077785</td>\n",
       "      <td>14270.169342</td>\n",
       "      <td>6.101210e+07</td>\n",
       "      <td>4.420195</td>\n",
       "      <td>4.508882</td>\n",
       "      <td>0.210904</td>\n",
       "      <td>3.358920</td>\n",
       "    </tr>\n",
       "    <tr>\n",
       "      <th>min</th>\n",
       "      <td>2000.000000</td>\n",
       "      <td>36.300000</td>\n",
       "      <td>1.000000</td>\n",
       "      <td>0.000000</td>\n",
       "      <td>0.010000</td>\n",
       "      <td>0.000000</td>\n",
       "      <td>1.000000</td>\n",
       "      <td>0.000000</td>\n",
       "      <td>1.000000</td>\n",
       "      <td>0.000000</td>\n",
       "      <td>3.000000</td>\n",
       "      <td>0.37000</td>\n",
       "      <td>2.000000</td>\n",
       "      <td>0.100000</td>\n",
       "      <td>1.681350</td>\n",
       "      <td>3.400000e+01</td>\n",
       "      <td>0.100000</td>\n",
       "      <td>0.100000</td>\n",
       "      <td>0.000000</td>\n",
       "      <td>0.000000</td>\n",
       "    </tr>\n",
       "    <tr>\n",
       "      <th>25%</th>\n",
       "      <td>2004.000000</td>\n",
       "      <td>63.100000</td>\n",
       "      <td>74.000000</td>\n",
       "      <td>0.000000</td>\n",
       "      <td>0.877500</td>\n",
       "      <td>4.685343</td>\n",
       "      <td>77.000000</td>\n",
       "      <td>0.000000</td>\n",
       "      <td>19.300000</td>\n",
       "      <td>0.000000</td>\n",
       "      <td>78.000000</td>\n",
       "      <td>4.26000</td>\n",
       "      <td>78.000000</td>\n",
       "      <td>0.100000</td>\n",
       "      <td>463.935626</td>\n",
       "      <td>1.957932e+05</td>\n",
       "      <td>1.600000</td>\n",
       "      <td>1.500000</td>\n",
       "      <td>0.493000</td>\n",
       "      <td>10.100000</td>\n",
       "    </tr>\n",
       "    <tr>\n",
       "      <th>50%</th>\n",
       "      <td>2008.000000</td>\n",
       "      <td>72.100000</td>\n",
       "      <td>144.000000</td>\n",
       "      <td>3.000000</td>\n",
       "      <td>3.755000</td>\n",
       "      <td>64.912906</td>\n",
       "      <td>92.000000</td>\n",
       "      <td>17.000000</td>\n",
       "      <td>43.500000</td>\n",
       "      <td>4.000000</td>\n",
       "      <td>93.000000</td>\n",
       "      <td>5.75500</td>\n",
       "      <td>93.000000</td>\n",
       "      <td>0.100000</td>\n",
       "      <td>1766.947595</td>\n",
       "      <td>1.386542e+06</td>\n",
       "      <td>3.300000</td>\n",
       "      <td>3.300000</td>\n",
       "      <td>0.677000</td>\n",
       "      <td>12.300000</td>\n",
       "    </tr>\n",
       "    <tr>\n",
       "      <th>75%</th>\n",
       "      <td>2012.000000</td>\n",
       "      <td>75.700000</td>\n",
       "      <td>228.000000</td>\n",
       "      <td>22.000000</td>\n",
       "      <td>7.702500</td>\n",
       "      <td>441.534144</td>\n",
       "      <td>97.000000</td>\n",
       "      <td>360.250000</td>\n",
       "      <td>56.200000</td>\n",
       "      <td>28.000000</td>\n",
       "      <td>97.000000</td>\n",
       "      <td>7.49250</td>\n",
       "      <td>97.000000</td>\n",
       "      <td>0.800000</td>\n",
       "      <td>5910.806335</td>\n",
       "      <td>7.420359e+06</td>\n",
       "      <td>7.200000</td>\n",
       "      <td>7.200000</td>\n",
       "      <td>0.779000</td>\n",
       "      <td>14.300000</td>\n",
       "    </tr>\n",
       "    <tr>\n",
       "      <th>max</th>\n",
       "      <td>2015.000000</td>\n",
       "      <td>89.000000</td>\n",
       "      <td>723.000000</td>\n",
       "      <td>1800.000000</td>\n",
       "      <td>17.870000</td>\n",
       "      <td>19479.911610</td>\n",
       "      <td>99.000000</td>\n",
       "      <td>212183.000000</td>\n",
       "      <td>87.300000</td>\n",
       "      <td>2500.000000</td>\n",
       "      <td>99.000000</td>\n",
       "      <td>17.60000</td>\n",
       "      <td>99.000000</td>\n",
       "      <td>50.600000</td>\n",
       "      <td>119172.741800</td>\n",
       "      <td>1.293859e+09</td>\n",
       "      <td>27.700000</td>\n",
       "      <td>28.600000</td>\n",
       "      <td>0.948000</td>\n",
       "      <td>20.700000</td>\n",
       "    </tr>\n",
       "  </tbody>\n",
       "</table>\n",
       "</div>"
      ],
      "text/plain": [
       "              Year  Lifeexpectancy  AdultMortality  infantdeaths      Alcohol  \\\n",
       "count  2938.000000     2928.000000     2928.000000   2938.000000  2744.000000   \n",
       "mean   2007.518720       69.224932      164.796448     30.303948     4.602861   \n",
       "std       4.613841        9.523867      124.292079    117.926501     4.052413   \n",
       "min    2000.000000       36.300000        1.000000      0.000000     0.010000   \n",
       "25%    2004.000000       63.100000       74.000000      0.000000     0.877500   \n",
       "50%    2008.000000       72.100000      144.000000      3.000000     3.755000   \n",
       "75%    2012.000000       75.700000      228.000000     22.000000     7.702500   \n",
       "max    2015.000000       89.000000      723.000000   1800.000000    17.870000   \n",
       "\n",
       "       percentageexpenditure   HepatitisB        Measles          BMI  \\\n",
       "count            2938.000000  2385.000000    2938.000000  2904.000000   \n",
       "mean              738.251295    80.940461    2419.592240    38.321247   \n",
       "std              1987.914858    25.070016   11467.272489    20.044034   \n",
       "min                 0.000000     1.000000       0.000000     1.000000   \n",
       "25%                 4.685343    77.000000       0.000000    19.300000   \n",
       "50%                64.912906    92.000000      17.000000    43.500000   \n",
       "75%               441.534144    97.000000     360.250000    56.200000   \n",
       "max             19479.911610    99.000000  212183.000000    87.300000   \n",
       "\n",
       "       under-fivedeaths        Polio  Totalexpenditure   Diphtheria  \\\n",
       "count       2938.000000  2919.000000        2712.00000  2919.000000   \n",
       "mean          42.035739    82.550188           5.93819    82.324084   \n",
       "std          160.445548    23.428046           2.49832    23.716912   \n",
       "min            0.000000     3.000000           0.37000     2.000000   \n",
       "25%            0.000000    78.000000           4.26000    78.000000   \n",
       "50%            4.000000    93.000000           5.75500    93.000000   \n",
       "75%           28.000000    97.000000           7.49250    97.000000   \n",
       "max         2500.000000    99.000000          17.60000    99.000000   \n",
       "\n",
       "          HIV/AIDS            GDP    Population  thinness1-19years  \\\n",
       "count  2938.000000    2490.000000  2.286000e+03        2904.000000   \n",
       "mean      1.742103    7483.158469  1.275338e+07           4.839704   \n",
       "std       5.077785   14270.169342  6.101210e+07           4.420195   \n",
       "min       0.100000       1.681350  3.400000e+01           0.100000   \n",
       "25%       0.100000     463.935626  1.957932e+05           1.600000   \n",
       "50%       0.100000    1766.947595  1.386542e+06           3.300000   \n",
       "75%       0.800000    5910.806335  7.420359e+06           7.200000   \n",
       "max      50.600000  119172.741800  1.293859e+09          27.700000   \n",
       "\n",
       "       thinness5-9years  Incomecompositionofresources    Schooling  \n",
       "count       2904.000000                   2771.000000  2775.000000  \n",
       "mean           4.870317                      0.627551    11.992793  \n",
       "std            4.508882                      0.210904     3.358920  \n",
       "min            0.100000                      0.000000     0.000000  \n",
       "25%            1.500000                      0.493000    10.100000  \n",
       "50%            3.300000                      0.677000    12.300000  \n",
       "75%            7.200000                      0.779000    14.300000  \n",
       "max           28.600000                      0.948000    20.700000  "
      ]
     },
     "execution_count": 11,
     "metadata": {},
     "output_type": "execute_result"
    }
   ],
   "source": [
    "df_lexpect.describe()"
   ]
  },
  {
   "cell_type": "markdown",
   "metadata": {},
   "source": [
    "Show number of missing values in Raw Life Expectancy Dataset"
   ]
  },
  {
   "cell_type": "code",
   "execution_count": 12,
   "metadata": {},
   "outputs": [
    {
     "data": {
      "text/plain": [
       "Country                           0\n",
       "Year                              0\n",
       "Status                            0\n",
       "Lifeexpectancy                   10\n",
       "AdultMortality                   10\n",
       "infantdeaths                      0\n",
       "Alcohol                         194\n",
       "percentageexpenditure             0\n",
       "HepatitisB                      553\n",
       "Measles                           0\n",
       "BMI                              34\n",
       "under-fivedeaths                  0\n",
       "Polio                            19\n",
       "Totalexpenditure                226\n",
       "Diphtheria                       19\n",
       "HIV/AIDS                          0\n",
       "GDP                             448\n",
       "Population                      652\n",
       "thinness1-19years                34\n",
       "thinness5-9years                 34\n",
       "Incomecompositionofresources    167\n",
       "Schooling                       163\n",
       "dtype: int64"
      ]
     },
     "execution_count": 12,
     "metadata": {},
     "output_type": "execute_result"
    }
   ],
   "source": [
    "df_lexpect.isnull().sum()"
   ]
  },
  {
   "cell_type": "markdown",
   "metadata": {},
   "source": [
    "Describe Raw Energy Consumption Dataset"
   ]
  },
  {
   "cell_type": "code",
   "execution_count": 13,
   "metadata": {},
   "outputs": [
    {
     "data": {
      "text/html": [
       "<div>\n",
       "<style scoped>\n",
       "    .dataframe tbody tr th:only-of-type {\n",
       "        vertical-align: middle;\n",
       "    }\n",
       "\n",
       "    .dataframe tbody tr th {\n",
       "        vertical-align: top;\n",
       "    }\n",
       "\n",
       "    .dataframe thead th {\n",
       "        text-align: right;\n",
       "    }\n",
       "</style>\n",
       "<table border=\"1\" class=\"dataframe\">\n",
       "  <thead>\n",
       "    <tr style=\"text-align: right;\">\n",
       "      <th></th>\n",
       "      <th>Year</th>\n",
       "      <th>Energy consumption per capita (kWh)</th>\n",
       "    </tr>\n",
       "  </thead>\n",
       "  <tbody>\n",
       "    <tr>\n",
       "      <th>count</th>\n",
       "      <td>8961.000000</td>\n",
       "      <td>8.961000e+03</td>\n",
       "    </tr>\n",
       "    <tr>\n",
       "      <th>mean</th>\n",
       "      <td>1995.877581</td>\n",
       "      <td>2.983376e+04</td>\n",
       "    </tr>\n",
       "    <tr>\n",
       "      <th>std</th>\n",
       "      <td>13.544539</td>\n",
       "      <td>7.549302e+04</td>\n",
       "    </tr>\n",
       "    <tr>\n",
       "      <th>min</th>\n",
       "      <td>1965.000000</td>\n",
       "      <td>0.000000e+00</td>\n",
       "    </tr>\n",
       "    <tr>\n",
       "      <th>25%</th>\n",
       "      <td>1986.000000</td>\n",
       "      <td>3.249927e+03</td>\n",
       "    </tr>\n",
       "    <tr>\n",
       "      <th>50%</th>\n",
       "      <td>1997.000000</td>\n",
       "      <td>1.407556e+04</td>\n",
       "    </tr>\n",
       "    <tr>\n",
       "      <th>75%</th>\n",
       "      <td>2007.000000</td>\n",
       "      <td>3.695648e+04</td>\n",
       "    </tr>\n",
       "    <tr>\n",
       "      <th>max</th>\n",
       "      <td>2019.000000</td>\n",
       "      <td>1.676610e+06</td>\n",
       "    </tr>\n",
       "  </tbody>\n",
       "</table>\n",
       "</div>"
      ],
      "text/plain": [
       "              Year  Energy consumption per capita (kWh)\n",
       "count  8961.000000                         8.961000e+03\n",
       "mean   1995.877581                         2.983376e+04\n",
       "std      13.544539                         7.549302e+04\n",
       "min    1965.000000                         0.000000e+00\n",
       "25%    1986.000000                         3.249927e+03\n",
       "50%    1997.000000                         1.407556e+04\n",
       "75%    2007.000000                         3.695648e+04\n",
       "max    2019.000000                         1.676610e+06"
      ]
     },
     "execution_count": 13,
     "metadata": {},
     "output_type": "execute_result"
    }
   ],
   "source": [
    "energy.describe()"
   ]
  },
  {
   "cell_type": "markdown",
   "metadata": {},
   "source": [
    "Show number of missing values in Raw Energy Consumption Dataset"
   ]
  },
  {
   "cell_type": "code",
   "execution_count": 14,
   "metadata": {},
   "outputs": [
    {
     "data": {
      "text/plain": [
       "Entity                                   0\n",
       "Code                                   165\n",
       "Year                                     0\n",
       "Energy consumption per capita (kWh)      0\n",
       "dtype: int64"
      ]
     },
     "execution_count": 14,
     "metadata": {},
     "output_type": "execute_result"
    }
   ],
   "source": [
    "energy.isnull().sum()"
   ]
  },
  {
   "cell_type": "markdown",
   "metadata": {},
   "source": [
    "***Cleaning and Organizing Data***"
   ]
  },
  {
   "cell_type": "markdown",
   "metadata": {},
   "source": [
    "**Data For Earthquakes**"
   ]
  },
  {
   "cell_type": "markdown",
   "metadata": {},
   "source": [
    "Required columns of Earthquakes dataset have been taken and renamed. The entities in the dataset are formatted."
   ]
  },
  {
   "cell_type": "code",
   "execution_count": 15,
   "metadata": {
    "colab": {
     "base_uri": "https://localhost:8080/",
     "height": 81
    },
    "id": "2w11J-h6IasO",
    "outputId": "875b6fcf-d7cc-4e42-a4ce-39ad924ee967"
   },
   "outputs": [
    {
     "data": {
      "text/html": [
       "<div>\n",
       "<style scoped>\n",
       "    .dataframe tbody tr th:only-of-type {\n",
       "        vertical-align: middle;\n",
       "    }\n",
       "\n",
       "    .dataframe tbody tr th {\n",
       "        vertical-align: top;\n",
       "    }\n",
       "\n",
       "    .dataframe thead th {\n",
       "        text-align: right;\n",
       "    }\n",
       "</style>\n",
       "<table border=\"1\" class=\"dataframe\">\n",
       "  <thead>\n",
       "    <tr style=\"text-align: right;\">\n",
       "      <th></th>\n",
       "      <th>Country Name</th>\n",
       "      <th>Year</th>\n",
       "      <th>Eq Primary</th>\n",
       "      <th>Flag Tsunami</th>\n",
       "      <th>Total Damage Millions Dollars($)</th>\n",
       "      <th>Total Deaths</th>\n",
       "      <th>Latitude</th>\n",
       "      <th>Longitude</th>\n",
       "    </tr>\n",
       "  </thead>\n",
       "  <tbody>\n",
       "    <tr>\n",
       "      <th>0</th>\n",
       "      <td>Jordan</td>\n",
       "      <td>-2150</td>\n",
       "      <td>7.3</td>\n",
       "      <td>0</td>\n",
       "      <td>NaN</td>\n",
       "      <td>NaN</td>\n",
       "      <td>31.1</td>\n",
       "      <td>35.5</td>\n",
       "    </tr>\n",
       "    <tr>\n",
       "      <th>1</th>\n",
       "      <td>Syria</td>\n",
       "      <td>-2000</td>\n",
       "      <td>NaN</td>\n",
       "      <td>1</td>\n",
       "      <td>NaN</td>\n",
       "      <td>NaN</td>\n",
       "      <td>35.683</td>\n",
       "      <td>35.8</td>\n",
       "    </tr>\n",
       "    <tr>\n",
       "      <th>2</th>\n",
       "      <td>Turkmenistan</td>\n",
       "      <td>-2000</td>\n",
       "      <td>7.1</td>\n",
       "      <td>0</td>\n",
       "      <td>NaN</td>\n",
       "      <td>1.0</td>\n",
       "      <td>38</td>\n",
       "      <td>58.2</td>\n",
       "    </tr>\n",
       "    <tr>\n",
       "      <th>3</th>\n",
       "      <td>Greece</td>\n",
       "      <td>-1610</td>\n",
       "      <td>NaN</td>\n",
       "      <td>1</td>\n",
       "      <td>NaN</td>\n",
       "      <td>NaN</td>\n",
       "      <td>36.4</td>\n",
       "      <td>25.4</td>\n",
       "    </tr>\n",
       "    <tr>\n",
       "      <th>4</th>\n",
       "      <td>Israel</td>\n",
       "      <td>-1566</td>\n",
       "      <td>NaN</td>\n",
       "      <td>0</td>\n",
       "      <td>NaN</td>\n",
       "      <td>NaN</td>\n",
       "      <td>31.5</td>\n",
       "      <td>35.3</td>\n",
       "    </tr>\n",
       "  </tbody>\n",
       "</table>\n",
       "</div>"
      ],
      "text/plain": [
       "   Country Name  Year  Eq Primary  Flag Tsunami  \\\n",
       "0        Jordan -2150         7.3             0   \n",
       "1         Syria -2000         NaN             1   \n",
       "2  Turkmenistan -2000         7.1             0   \n",
       "3        Greece -1610         NaN             1   \n",
       "4        Israel -1566         NaN             0   \n",
       "\n",
       "   Total Damage Millions Dollars($)  Total Deaths Latitude Longitude  \n",
       "0                               NaN           NaN     31.1      35.5  \n",
       "1                               NaN           NaN   35.683      35.8  \n",
       "2                               NaN           1.0       38      58.2  \n",
       "3                               NaN           NaN     36.4      25.4  \n",
       "4                               NaN           NaN     31.5      35.3  "
      ]
     },
     "execution_count": 15,
     "metadata": {},
     "output_type": "execute_result"
    }
   ],
   "source": [
    "\n",
    "# Create a new dataframe with only selected columns from the original dataframe\n",
    "ww_eq = pd.DataFrame(ww_eq[['COUNTRY','YEAR','EQ_PRIMARY','FLAG_TSUNAMI','TOTAL_DAMAGE_MILLIONS_DOLLARS','TOTAL_DEATHS','LATITUDE','LONGITUDE']])\n",
    "\n",
    "# Rename the columns by replacing underscores with spaces\n",
    "ww_eq.columns = [col.replace(\"_\", \" \") for col in ww_eq.columns]\n",
    "\n",
    "# Rename the \"COUNTRY\" column to \"Country Name\"\n",
    "ww_eq = ww_eq.rename(columns={\"COUNTRY\": \"Country Name\"})\n",
    "\n",
    "# Rename the \"Total Damage Millions Dollars\" column to \"Total Damage Millions Dollars($)\"\n",
    "ww_eq = ww_eq.rename(columns={\"TOTAL DAMAGE MILLIONS DOLLARS\": \"Total Damage Millions Dollars($)\"})\n",
    "\n",
    "# Convert the \"Country Name\" column to title case\n",
    "ww_eq['Country Name'] = ww_eq['Country Name'].str.title()\n",
    "\n",
    "# Convert all column names to title case\n",
    "ww_eq.columns = ww_eq.columns.str.title()\n",
    "\n",
    "# Convert the \"Flag Tsunami\" column to binary (1 for \"Yes\", 0 for \"No\")\n",
    "ww_eq['Flag Tsunami'] = ww_eq['Flag Tsunami'].apply(lambda x: 1 if x == 'Yes' else 0)\n",
    "\n",
    "# Display the first row of the modified dataframe\n",
    "ww_eq.head(5)"
   ]
  },
  {
   "cell_type": "markdown",
   "metadata": {},
   "source": [
    "Here, missing damage information of earthquakes is filled with the average of the total damage received in the same country that year. If there was no other earthquake in the country that year, it was filled with the average of the damage received from all earthquakes in that country. In addition, lower bounds and upper bounds were set for the data in order to work with more appropriate earthquake data."
   ]
  },
  {
   "cell_type": "code",
   "execution_count": 16,
   "metadata": {
    "id": "TJLJytXPlp2V"
   },
   "outputs": [],
   "source": [
    "# Calculate the mean for each country-year combination\n",
    "mean_by_country_year = ww_eq.groupby(['Country Name', 'Year'])[['Total Damage Millions Dollars($)', 'Total Deaths']].mean()\n",
    "\n",
    "# Calculate the mean for each country over all years\n",
    "mean_by_country = ww_eq.groupby(['Country Name'])[['Total Damage Millions Dollars($)', 'Total Deaths']].mean()\n",
    "\n",
    "# Fill null values in TOTAL_DAMAGE_MILLIONS_DOLLARS and TOTAL_DEATHS with the mean for the corresponding country-year combination, if it exists\n",
    "ww_eq['Total Damage Millions Dollars($)'] = ww_eq.apply(lambda row: mean_by_country_year.loc\\\n",
    "                                                        [(row['Country Name'], row['Year']),\\\n",
    "                                                         'Total Damage Millions Dollars($)']\\\n",
    "                                                        if pd.notnull\\\n",
    "                                                        (row['Total Damage Millions Dollars($)'])\\\n",
    "                                                        else mean_by_country.loc\\\n",
    "                                                        [row['Country Name'],'Total Damage Millions Dollars($)'],\\\n",
    "                                                        axis=1)\n",
    "ww_eq['Total Deaths'] = ww_eq.apply(lambda row: mean_by_country_year.loc\\\n",
    "                                    [(row['Country Name'], row['Year']), 'Total Deaths']\\\n",
    "                                    if pd.notnull(row['Total Deaths'])\\\n",
    "                                    else mean_by_country.loc[row['Country Name'], 'Total Deaths'], axis=1)\n",
    "\n",
    "# Select rows from the dataframe where the \"Total Deaths\" column is greater than 20 and less than 17500\n",
    "ww_eq = ww_eq[(ww_eq[\"Total Deaths\"] > 20) & (ww_eq[\"Total Deaths\"] <17500)]\n",
    "\n",
    "# Drop rows with missing or null values in the Latitude and Longitude columns\n",
    "ww_eq = ww_eq.dropna(subset=[\"Latitude\",\"Longitude\"])\n",
    "\n",
    "# Check if there are any blank spaces in the \"Latitude\" column\n",
    "blank_spaces = ww_eq[\"Latitude\"].str.contains(\" \")\n",
    "\n",
    "# Drop rows with blank spaces in the \"Latitude\" column\n",
    "ww_eq = ww_eq[~ww_eq[\"Latitude\"].str.contains(\" \")]\n",
    "# Drop rows with blank spaces in the \"Longitude\" column\n",
    "ww_eq = ww_eq[~ww_eq[\"Longitude\"].str.contains(\" \")]\n",
    "\n",
    "# Convert the \"Latitude\" and \"Longitude\" columns to float type\n",
    "ww_eq['Latitude'] = ww_eq['Latitude'].astype(float)\n",
    "ww_eq['Longitude'] = ww_eq['Longitude'].astype(float)"
   ]
  },
  {
   "cell_type": "markdown",
   "metadata": {},
   "source": [
    "As we can see below, we have 6193 data in total, but only 11 of them show damage greater than 15000. In order to work with more relevant data, we filtered out these values"
   ]
  },
  {
   "cell_type": "code",
   "execution_count": 17,
   "metadata": {},
   "outputs": [
    {
     "name": "stdout",
     "output_type": "stream",
     "text": [
      "(4823, 8)\n",
      "(11, 8)\n"
     ]
    }
   ],
   "source": [
    "print(ww_eq.shape)\n",
    "print(ww_eq[ww_eq[\"Total Damage Millions Dollars($)\"] > 15000].shape)\n",
    "ww_eq = ww_eq[ww_eq[\"Total Damage Millions Dollars($)\"] < 15000]"
   ]
  },
  {
   "cell_type": "markdown",
   "metadata": {},
   "source": [
    "**Data for Technology Achievement Index**"
   ]
  },
  {
   "cell_type": "markdown",
   "metadata": {},
   "source": [
    "Here missing values filled with means of the columns and column names are formatted by written \"rename\" function."
   ]
  },
  {
   "cell_type": "code",
   "execution_count": 18,
   "metadata": {
    "colab": {
     "base_uri": "https://localhost:8080/"
    },
    "id": "8cY1gEuuI-8Q",
    "outputId": "63c2cf81-57be-4e57-e10b-8c58abfc2593"
   },
   "outputs": [
    {
     "name": "stderr",
     "output_type": "stream",
     "text": [
      "C:\\Users\\Hp\\AppData\\Local\\Temp\\ipykernel_8412\\3176353441.py:2: FutureWarning: Dropping of nuisance columns in DataFrame reductions (with 'numeric_only=None') is deprecated; in a future version this will raise TypeError.  Select only valid columns before calling the reduction.\n",
      "  tech_overall = tech_overall.fillna(tech_overall.mean(axis=0))\n"
     ]
    }
   ],
   "source": [
    "# Replace missing values with the mean of the column\n",
    "tech_overall = tech_overall.fillna(tech_overall.mean(axis=0))\n",
    "\n",
    "# Rename the columns by replacing underscores with spaces\n",
    "tech_overall.columns = [col.replace(\"_\", \" \") for col in tech_overall.columns]"
   ]
  },
  {
   "cell_type": "markdown",
   "metadata": {},
   "source": [
    "Dataset reshaped to be merged with Earthquakes Dataset"
   ]
  },
  {
   "cell_type": "code",
   "execution_count": 19,
   "metadata": {
    "id": "hCX0l0Qb3Ps2"
   },
   "outputs": [],
   "source": [
    "# Reshape the dataframe from wide to long format, with the specified columns as id variables\n",
    "tech_overall_melted = pd.melt(tech_overall, id_vars=['Country Name', 'Country Code'], var_name='Year', value_name='Value')\n",
    "\n",
    "# Convert the \"Year\" column to float type\n",
    "tech_overall_melted['Year'] = tech_overall_melted['Year'].astype(float)"
   ]
  },
  {
   "cell_type": "markdown",
   "metadata": {},
   "source": [
    "The Technology Dataset is being merged with the Earthquakes Dataset."
   ]
  },
  {
   "cell_type": "code",
   "execution_count": 20,
   "metadata": {
    "colab": {
     "base_uri": "https://localhost:8080/",
     "height": 206
    },
    "id": "8lNYhWWy319M",
    "outputId": "d2a6e413-b2d7-4aa0-a07b-19f71d3d6fff"
   },
   "outputs": [
    {
     "data": {
      "text/html": [
       "<div>\n",
       "<style scoped>\n",
       "    .dataframe tbody tr th:only-of-type {\n",
       "        vertical-align: middle;\n",
       "    }\n",
       "\n",
       "    .dataframe tbody tr th {\n",
       "        vertical-align: top;\n",
       "    }\n",
       "\n",
       "    .dataframe thead th {\n",
       "        text-align: right;\n",
       "    }\n",
       "</style>\n",
       "<table border=\"1\" class=\"dataframe\">\n",
       "  <thead>\n",
       "    <tr style=\"text-align: right;\">\n",
       "      <th></th>\n",
       "      <th>Country Name</th>\n",
       "      <th>Year</th>\n",
       "      <th>Eq Primary</th>\n",
       "      <th>Flag Tsunami</th>\n",
       "      <th>Total Damage Millions Dollars($)</th>\n",
       "      <th>Total Deaths</th>\n",
       "      <th>Latitude</th>\n",
       "      <th>Longitude</th>\n",
       "      <th>Country Code</th>\n",
       "      <th>Value</th>\n",
       "    </tr>\n",
       "  </thead>\n",
       "  <tbody>\n",
       "    <tr>\n",
       "      <th>0</th>\n",
       "      <td>India</td>\n",
       "      <td>2000</td>\n",
       "      <td>4.6</td>\n",
       "      <td>0</td>\n",
       "      <td>362.577778</td>\n",
       "      <td>1835.117647</td>\n",
       "      <td>22.132</td>\n",
       "      <td>92.771</td>\n",
       "      <td>IND</td>\n",
       "      <td>0.151665</td>\n",
       "    </tr>\n",
       "    <tr>\n",
       "      <th>1</th>\n",
       "      <td>China</td>\n",
       "      <td>2000</td>\n",
       "      <td>5.1</td>\n",
       "      <td>0</td>\n",
       "      <td>2219.880341</td>\n",
       "      <td>7618.511194</td>\n",
       "      <td>40.498</td>\n",
       "      <td>122.994</td>\n",
       "      <td>CHN</td>\n",
       "      <td>0.306434</td>\n",
       "    </tr>\n",
       "    <tr>\n",
       "      <th>2</th>\n",
       "      <td>China</td>\n",
       "      <td>2000</td>\n",
       "      <td>6.3</td>\n",
       "      <td>0</td>\n",
       "      <td>2219.880341</td>\n",
       "      <td>7618.511194</td>\n",
       "      <td>26.856</td>\n",
       "      <td>97.238</td>\n",
       "      <td>CHN</td>\n",
       "      <td>0.306434</td>\n",
       "    </tr>\n",
       "    <tr>\n",
       "      <th>3</th>\n",
       "      <td>Japan</td>\n",
       "      <td>2000</td>\n",
       "      <td>7.6</td>\n",
       "      <td>0</td>\n",
       "      <td>14681.068741</td>\n",
       "      <td>2983.394958</td>\n",
       "      <td>22.338</td>\n",
       "      <td>143.730</td>\n",
       "      <td>JPN</td>\n",
       "      <td>0.582759</td>\n",
       "    </tr>\n",
       "    <tr>\n",
       "      <th>4</th>\n",
       "      <td>Japan</td>\n",
       "      <td>2000</td>\n",
       "      <td>6.1</td>\n",
       "      <td>1</td>\n",
       "      <td>14681.068741</td>\n",
       "      <td>2983.394958</td>\n",
       "      <td>34.319</td>\n",
       "      <td>139.260</td>\n",
       "      <td>JPN</td>\n",
       "      <td>0.582759</td>\n",
       "    </tr>\n",
       "  </tbody>\n",
       "</table>\n",
       "</div>"
      ],
      "text/plain": [
       "  Country Name  Year  Eq Primary  Flag Tsunami  \\\n",
       "0        India  2000         4.6             0   \n",
       "1        China  2000         5.1             0   \n",
       "2        China  2000         6.3             0   \n",
       "3        Japan  2000         7.6             0   \n",
       "4        Japan  2000         6.1             1   \n",
       "\n",
       "   Total Damage Millions Dollars($)  Total Deaths  Latitude  Longitude  \\\n",
       "0                        362.577778   1835.117647    22.132     92.771   \n",
       "1                       2219.880341   7618.511194    40.498    122.994   \n",
       "2                       2219.880341   7618.511194    26.856     97.238   \n",
       "3                      14681.068741   2983.394958    22.338    143.730   \n",
       "4                      14681.068741   2983.394958    34.319    139.260   \n",
       "\n",
       "  Country Code     Value  \n",
       "0          IND  0.151665  \n",
       "1          CHN  0.306434  \n",
       "2          CHN  0.306434  \n",
       "3          JPN  0.582759  \n",
       "4          JPN  0.582759  "
      ]
     },
     "execution_count": 20,
     "metadata": {},
     "output_type": "execute_result"
    }
   ],
   "source": [
    "# Merge the two dataframes on the \"Country Name\" and \"Year\" columns\n",
    "merged_tech = pd.merge(ww_eq, tech_overall_melted, on=['Country Name','Year'])\n",
    "\n",
    "# Display the first five rows of the merged dataframe\n",
    "merged_tech.head(5)"
   ]
  },
  {
   "cell_type": "markdown",
   "metadata": {},
   "source": [
    "**Data for Economy**"
   ]
  },
  {
   "cell_type": "markdown",
   "metadata": {},
   "source": [
    "Required columns are taken."
   ]
  },
  {
   "cell_type": "code",
   "execution_count": 21,
   "metadata": {
    "id": "4fZIkv40JEkp"
   },
   "outputs": [],
   "source": [
    "# Create a new dataframe with only the selected columns from the original dataframe\n",
    "economy_df = pd.DataFrame(economy_df[['Country Name','Country Code','2014 [YR2014]', '2015 [YR2015]', '2016 [YR2016]', '2017 [YR2017]',\\\n",
    "       '2018 [YR2018]', '2019 [YR2019]', '2020 [YR2020]', '2021 [YR2021]']])"
   ]
  },
  {
   "cell_type": "markdown",
   "metadata": {},
   "source": [
    "This function written to rename columns of datasets."
   ]
  },
  {
   "cell_type": "code",
   "execution_count": 22,
   "metadata": {
    "id": "n2WAIyWTXEID"
   },
   "outputs": [],
   "source": [
    "def rename(data_frame,column_name):\n",
    "    # Flag to track if the column exists\n",
    "    exist = False\n",
    "    # Iterate over the column names in the dataframe\n",
    "    for i in data_frame.columns.values:\n",
    "        # Check if the column name is the one specified and contains '[',\n",
    "        # and if so, set the flag to True and store the index of the column\n",
    "        if i == column_name and \"[\" in column_name:\n",
    "            exist = True\n",
    "            index = data_frame.columns.get_loc(i)\n",
    "            # Rename the column and set the inplace flag to True to modify the dataframe in place\n",
    "            data_frame.rename(columns = {data_frame.columns[index]: column_name.split(' [')[0]},inplace =True)\n",
    "            break"
   ]
  },
  {
   "cell_type": "markdown",
   "metadata": {},
   "source": [
    "Here rename function applied to Economy Dataset"
   ]
  },
  {
   "cell_type": "code",
   "execution_count": 23,
   "metadata": {
    "colab": {
     "base_uri": "https://localhost:8080/",
     "height": 112
    },
    "id": "aMvkxgAjXUC3",
    "outputId": "1dca4eb8-5694-4fdc-e1bf-55c1c2709758"
   },
   "outputs": [
    {
     "data": {
      "text/html": [
       "<div>\n",
       "<style scoped>\n",
       "    .dataframe tbody tr th:only-of-type {\n",
       "        vertical-align: middle;\n",
       "    }\n",
       "\n",
       "    .dataframe tbody tr th {\n",
       "        vertical-align: top;\n",
       "    }\n",
       "\n",
       "    .dataframe thead th {\n",
       "        text-align: right;\n",
       "    }\n",
       "</style>\n",
       "<table border=\"1\" class=\"dataframe\">\n",
       "  <thead>\n",
       "    <tr style=\"text-align: right;\">\n",
       "      <th></th>\n",
       "      <th>Country Name</th>\n",
       "      <th>Country Code</th>\n",
       "      <th>2014</th>\n",
       "      <th>2015</th>\n",
       "      <th>2016</th>\n",
       "      <th>2017</th>\n",
       "      <th>2018</th>\n",
       "      <th>2019</th>\n",
       "      <th>2020</th>\n",
       "      <th>2021</th>\n",
       "    </tr>\n",
       "  </thead>\n",
       "  <tbody>\n",
       "    <tr>\n",
       "      <th>0</th>\n",
       "      <td>Afghanistan</td>\n",
       "      <td>AFG</td>\n",
       "      <td>20497126770.1335</td>\n",
       "      <td>19134211763.859</td>\n",
       "      <td>18116562464.9088</td>\n",
       "      <td>18753469630.2586</td>\n",
       "      <td>18053228578.8878</td>\n",
       "      <td>18799450742.7823</td>\n",
       "      <td>20116137325.8206</td>\n",
       "      <td>..</td>\n",
       "    </tr>\n",
       "    <tr>\n",
       "      <th>1</th>\n",
       "      <td>Albania</td>\n",
       "      <td>ALB</td>\n",
       "      <td>13228147516.1168</td>\n",
       "      <td>11386850129.8411</td>\n",
       "      <td>11861199830.8396</td>\n",
       "      <td>13019689336.6919</td>\n",
       "      <td>15156432309.8977</td>\n",
       "      <td>15401830754.0773</td>\n",
       "      <td>15131866270.5936</td>\n",
       "      <td>18260043499.8068</td>\n",
       "    </tr>\n",
       "  </tbody>\n",
       "</table>\n",
       "</div>"
      ],
      "text/plain": [
       "  Country Name Country Code              2014              2015  \\\n",
       "0  Afghanistan          AFG  20497126770.1335   19134211763.859   \n",
       "1      Albania          ALB  13228147516.1168  11386850129.8411   \n",
       "\n",
       "               2016              2017              2018              2019  \\\n",
       "0  18116562464.9088  18753469630.2586  18053228578.8878  18799450742.7823   \n",
       "1  11861199830.8396  13019689336.6919  15156432309.8977  15401830754.0773   \n",
       "\n",
       "               2020              2021  \n",
       "0  20116137325.8206                ..  \n",
       "1  15131866270.5936  18260043499.8068  "
      ]
     },
     "execution_count": 23,
     "metadata": {},
     "output_type": "execute_result"
    }
   ],
   "source": [
    "# Iterate over the columns in the dataframe\n",
    "for i in economy_df.columns:\n",
    "  # Rename the column if its name contains '[', using the function defined earlier\n",
    "  rename(economy_df,i)\n",
    "\n",
    "# Display the first two rows of the modified dataframe\n",
    "economy_df.head(2)"
   ]
  },
  {
   "cell_type": "markdown",
   "metadata": {},
   "source": [
    "Fill missing economy values of countries with mean of that country's economy values. "
   ]
  },
  {
   "cell_type": "code",
   "execution_count": 24,
   "metadata": {
    "id": "5B09FfXxdvgv"
   },
   "outputs": [
    {
     "name": "stderr",
     "output_type": "stream",
     "text": [
      "C:\\Users\\Hp\\AppData\\Local\\Temp\\ipykernel_8412\\1851882565.py:1: FutureWarning: Dropping of nuisance columns in DataFrame reductions (with 'numeric_only=None') is deprecated; in a future version this will raise TypeError.  Select only valid columns before calling the reduction.\n",
      "  economy_df = economy_df.fillna(economy_df.mean(axis=1))\n"
     ]
    }
   ],
   "source": [
    "economy_df = economy_df.fillna(economy_df.mean(axis=1))"
   ]
  },
  {
   "cell_type": "markdown",
   "metadata": {},
   "source": [
    "Dataset reshaped to be merged with Earthquakes Dataset"
   ]
  },
  {
   "cell_type": "code",
   "execution_count": 25,
   "metadata": {
    "id": "DLN3U7PNwgIy"
   },
   "outputs": [],
   "source": [
    "# Reshape the dataframe from wide to long format, with the specified columns as id variables\n",
    "economy_melted = pd.melt(economy_df, id_vars=['Country Name', 'Country Code'], var_name='Year', value_name='Value')\n",
    "\n",
    "# Convert the column names to title case\n",
    "economy_melted.columns = economy_melted.columns.str.title()\n",
    "\n",
    "# Convert the \"Year\" column to float type\n",
    "economy_melted['Year'] = economy_melted['Year'].astype(float)"
   ]
  },
  {
   "cell_type": "markdown",
   "metadata": {},
   "source": [
    "The Economy Dataset is being merged with the Earthquakes Dataset. In order to work with more appropriate data, the lower and upper limits of the damage received were set."
   ]
  },
  {
   "cell_type": "code",
   "execution_count": 26,
   "metadata": {
    "colab": {
     "base_uri": "https://localhost:8080/",
     "height": 363
    },
    "id": "OLON0Ts3tyYy",
    "outputId": "34a1e6fd-2dba-4826-8070-f77c99bc19d6",
    "scrolled": true
   },
   "outputs": [
    {
     "data": {
      "text/html": [
       "<div>\n",
       "<style scoped>\n",
       "    .dataframe tbody tr th:only-of-type {\n",
       "        vertical-align: middle;\n",
       "    }\n",
       "\n",
       "    .dataframe tbody tr th {\n",
       "        vertical-align: top;\n",
       "    }\n",
       "\n",
       "    .dataframe thead th {\n",
       "        text-align: right;\n",
       "    }\n",
       "</style>\n",
       "<table border=\"1\" class=\"dataframe\">\n",
       "  <thead>\n",
       "    <tr style=\"text-align: right;\">\n",
       "      <th></th>\n",
       "      <th>Country Name</th>\n",
       "      <th>Year</th>\n",
       "      <th>Eq Primary</th>\n",
       "      <th>Flag Tsunami</th>\n",
       "      <th>Total Damage Millions Dollars($)</th>\n",
       "      <th>Total Deaths</th>\n",
       "      <th>Latitude</th>\n",
       "      <th>Longitude</th>\n",
       "      <th>Country Code</th>\n",
       "      <th>Value</th>\n",
       "    </tr>\n",
       "  </thead>\n",
       "  <tbody>\n",
       "    <tr>\n",
       "      <th>1</th>\n",
       "      <td>New Zealand</td>\n",
       "      <td>2014</td>\n",
       "      <td>6.1</td>\n",
       "      <td>0</td>\n",
       "      <td>4772.500000</td>\n",
       "      <td>46.900000</td>\n",
       "      <td>-40.660</td>\n",
       "      <td>175.814</td>\n",
       "      <td>NZL</td>\n",
       "      <td>201313497220.917</td>\n",
       "    </tr>\n",
       "    <tr>\n",
       "      <th>2</th>\n",
       "      <td>New Zealand</td>\n",
       "      <td>2014</td>\n",
       "      <td>6.9</td>\n",
       "      <td>1</td>\n",
       "      <td>4772.500000</td>\n",
       "      <td>46.900000</td>\n",
       "      <td>-29.977</td>\n",
       "      <td>-177.725</td>\n",
       "      <td>NZL</td>\n",
       "      <td>201313497220.917</td>\n",
       "    </tr>\n",
       "    <tr>\n",
       "      <th>5</th>\n",
       "      <td>Greece</td>\n",
       "      <td>2014</td>\n",
       "      <td>6.1</td>\n",
       "      <td>0</td>\n",
       "      <td>2339.000000</td>\n",
       "      <td>1494.754717</td>\n",
       "      <td>38.208</td>\n",
       "      <td>20.453</td>\n",
       "      <td>GRC</td>\n",
       "      <td>235458133124.608</td>\n",
       "    </tr>\n",
       "    <tr>\n",
       "      <th>6</th>\n",
       "      <td>Greece</td>\n",
       "      <td>2014</td>\n",
       "      <td>6.0</td>\n",
       "      <td>0</td>\n",
       "      <td>860.123077</td>\n",
       "      <td>1494.754717</td>\n",
       "      <td>38.244</td>\n",
       "      <td>20.379</td>\n",
       "      <td>GRC</td>\n",
       "      <td>235458133124.608</td>\n",
       "    </tr>\n",
       "    <tr>\n",
       "      <th>7</th>\n",
       "      <td>China</td>\n",
       "      <td>2014</td>\n",
       "      <td>6.9</td>\n",
       "      <td>0</td>\n",
       "      <td>2219.880341</td>\n",
       "      <td>7618.511194</td>\n",
       "      <td>35.905</td>\n",
       "      <td>82.586</td>\n",
       "      <td>CHN</td>\n",
       "      <td>10475682920597.7</td>\n",
       "    </tr>\n",
       "  </tbody>\n",
       "</table>\n",
       "</div>"
      ],
      "text/plain": [
       "  Country Name  Year  Eq Primary  Flag Tsunami  \\\n",
       "1  New Zealand  2014         6.1             0   \n",
       "2  New Zealand  2014         6.9             1   \n",
       "5       Greece  2014         6.1             0   \n",
       "6       Greece  2014         6.0             0   \n",
       "7        China  2014         6.9             0   \n",
       "\n",
       "   Total Damage Millions Dollars($)  Total Deaths  Latitude  Longitude  \\\n",
       "1                       4772.500000     46.900000   -40.660    175.814   \n",
       "2                       4772.500000     46.900000   -29.977   -177.725   \n",
       "5                       2339.000000   1494.754717    38.208     20.453   \n",
       "6                        860.123077   1494.754717    38.244     20.379   \n",
       "7                       2219.880341   7618.511194    35.905     82.586   \n",
       "\n",
       "  Country Code             Value  \n",
       "1          NZL  201313497220.917  \n",
       "2          NZL  201313497220.917  \n",
       "5          GRC  235458133124.608  \n",
       "6          GRC  235458133124.608  \n",
       "7          CHN  10475682920597.7  "
      ]
     },
     "execution_count": 26,
     "metadata": {},
     "output_type": "execute_result"
    }
   ],
   "source": [
    "# Merge the two dataframes on the 'Country Name' and 'Year' columns\n",
    "merged_economy = pd.merge(ww_eq, economy_melted, on=['Country Name', 'Year'])\n",
    "\n",
    "# Select rows from the merged dataframe where the \"Total Damage Millions Dollars\" column is greater than 600 and less than 17500\n",
    "merged_economy = merged_economy[(merged_economy[\"Total Damage Millions Dollars($)\"] > 600) & \\\n",
    "                                (merged_economy[\"Total Damage Millions Dollars($)\"] <17500)]\n",
    "merged_economy = merged_economy.rename(columns=\\\n",
    "                                       {\"Total Damage Millions Dollars($)\":\\\n",
    "                                        \"Total Damage Millions Dollars($)\"})\n",
    "# Display the first five rows of the modified dataframe\n",
    "merged_economy.head(5)"
   ]
  },
  {
   "cell_type": "markdown",
   "metadata": {},
   "source": [
    "Data for Life Expectancy"
   ]
  },
  {
   "cell_type": "markdown",
   "metadata": {},
   "source": [
    "Required columns are taken."
   ]
  },
  {
   "cell_type": "code",
   "execution_count": 27,
   "metadata": {
    "id": "F0bnbMwpJFU3"
   },
   "outputs": [],
   "source": [
    "# Rename the \"Lifeexpectancy\" column to \"Life Expectancy\"\n",
    "df_lexpect = df_lexpect.rename(columns={\"Lifeexpectancy\": \"Life Expectancy\"})\n",
    "\n",
    "# Create a new dataframe with only the selected columns from the original dataframe\n",
    "df_lexpect = df_lexpect[['Country','Year','Life Expectancy']]"
   ]
  },
  {
   "cell_type": "markdown",
   "metadata": {},
   "source": [
    "Rename and Format Columns"
   ]
  },
  {
   "cell_type": "code",
   "execution_count": 28,
   "metadata": {
    "colab": {
     "base_uri": "https://localhost:8080/",
     "height": 206
    },
    "id": "qQcZgnT61siP",
    "outputId": "2a997f58-1410-45a2-aa6a-dfd9351d3a08"
   },
   "outputs": [],
   "source": [
    "# Convert the column names to title case\n",
    "df_lexpect.columns = df_lexpect.columns.str.title()\n",
    "\n",
    "# Rename the \"Country\" column to \"Country Name\"\n",
    "df_lexpect = df_lexpect.rename(columns={\"Country\":\"Country Name\"})"
   ]
  },
  {
   "cell_type": "markdown",
   "metadata": {},
   "source": [
    "Fill missing Life Expectancy values of countries with mean of that country's Life Expectancy values."
   ]
  },
  {
   "cell_type": "code",
   "execution_count": 29,
   "metadata": {},
   "outputs": [
    {
     "name": "stderr",
     "output_type": "stream",
     "text": [
      "C:\\Users\\Hp\\AppData\\Local\\Temp\\ipykernel_8412\\158918190.py:1: FutureWarning: Dropping of nuisance columns in DataFrame reductions (with 'numeric_only=None') is deprecated; in a future version this will raise TypeError.  Select only valid columns before calling the reduction.\n",
      "  df_lexpect = df_lexpect.fillna(df_lexpect.mean(axis=1))\n"
     ]
    }
   ],
   "source": [
    "df_lexpect = df_lexpect.fillna(df_lexpect.mean(axis=1))"
   ]
  },
  {
   "cell_type": "markdown",
   "metadata": {},
   "source": [
    "The Life Expectancy Dataset is being merged with the Earthquakes Dataset."
   ]
  },
  {
   "cell_type": "code",
   "execution_count": 30,
   "metadata": {},
   "outputs": [
    {
     "data": {
      "text/html": [
       "<div>\n",
       "<style scoped>\n",
       "    .dataframe tbody tr th:only-of-type {\n",
       "        vertical-align: middle;\n",
       "    }\n",
       "\n",
       "    .dataframe tbody tr th {\n",
       "        vertical-align: top;\n",
       "    }\n",
       "\n",
       "    .dataframe thead th {\n",
       "        text-align: right;\n",
       "    }\n",
       "</style>\n",
       "<table border=\"1\" class=\"dataframe\">\n",
       "  <thead>\n",
       "    <tr style=\"text-align: right;\">\n",
       "      <th></th>\n",
       "      <th>Country Name</th>\n",
       "      <th>Year</th>\n",
       "      <th>Eq Primary</th>\n",
       "      <th>Flag Tsunami</th>\n",
       "      <th>Total Damage Millions Dollars($)</th>\n",
       "      <th>Total Deaths</th>\n",
       "      <th>Latitude</th>\n",
       "      <th>Longitude</th>\n",
       "      <th>Life Expectancy</th>\n",
       "    </tr>\n",
       "  </thead>\n",
       "  <tbody>\n",
       "    <tr>\n",
       "      <th>0</th>\n",
       "      <td>India</td>\n",
       "      <td>2000</td>\n",
       "      <td>4.6</td>\n",
       "      <td>0</td>\n",
       "      <td>362.577778</td>\n",
       "      <td>1835.117647</td>\n",
       "      <td>22.132</td>\n",
       "      <td>92.771</td>\n",
       "      <td>62.5</td>\n",
       "    </tr>\n",
       "    <tr>\n",
       "      <th>1</th>\n",
       "      <td>China</td>\n",
       "      <td>2000</td>\n",
       "      <td>5.1</td>\n",
       "      <td>0</td>\n",
       "      <td>2219.880341</td>\n",
       "      <td>7618.511194</td>\n",
       "      <td>40.498</td>\n",
       "      <td>122.994</td>\n",
       "      <td>71.7</td>\n",
       "    </tr>\n",
       "    <tr>\n",
       "      <th>2</th>\n",
       "      <td>China</td>\n",
       "      <td>2000</td>\n",
       "      <td>6.3</td>\n",
       "      <td>0</td>\n",
       "      <td>2219.880341</td>\n",
       "      <td>7618.511194</td>\n",
       "      <td>26.856</td>\n",
       "      <td>97.238</td>\n",
       "      <td>71.7</td>\n",
       "    </tr>\n",
       "    <tr>\n",
       "      <th>3</th>\n",
       "      <td>Japan</td>\n",
       "      <td>2000</td>\n",
       "      <td>7.6</td>\n",
       "      <td>0</td>\n",
       "      <td>14681.068741</td>\n",
       "      <td>2983.394958</td>\n",
       "      <td>22.338</td>\n",
       "      <td>143.730</td>\n",
       "      <td>81.1</td>\n",
       "    </tr>\n",
       "    <tr>\n",
       "      <th>4</th>\n",
       "      <td>Japan</td>\n",
       "      <td>2000</td>\n",
       "      <td>6.1</td>\n",
       "      <td>1</td>\n",
       "      <td>14681.068741</td>\n",
       "      <td>2983.394958</td>\n",
       "      <td>34.319</td>\n",
       "      <td>139.260</td>\n",
       "      <td>81.1</td>\n",
       "    </tr>\n",
       "  </tbody>\n",
       "</table>\n",
       "</div>"
      ],
      "text/plain": [
       "  Country Name  Year  Eq Primary  Flag Tsunami  \\\n",
       "0        India  2000         4.6             0   \n",
       "1        China  2000         5.1             0   \n",
       "2        China  2000         6.3             0   \n",
       "3        Japan  2000         7.6             0   \n",
       "4        Japan  2000         6.1             1   \n",
       "\n",
       "   Total Damage Millions Dollars($)  Total Deaths  Latitude  Longitude  \\\n",
       "0                        362.577778   1835.117647    22.132     92.771   \n",
       "1                       2219.880341   7618.511194    40.498    122.994   \n",
       "2                       2219.880341   7618.511194    26.856     97.238   \n",
       "3                      14681.068741   2983.394958    22.338    143.730   \n",
       "4                      14681.068741   2983.394958    34.319    139.260   \n",
       "\n",
       "   Life Expectancy  \n",
       "0             62.5  \n",
       "1             71.7  \n",
       "2             71.7  \n",
       "3             81.1  \n",
       "4             81.1  "
      ]
     },
     "execution_count": 30,
     "metadata": {},
     "output_type": "execute_result"
    }
   ],
   "source": [
    "# Merge the two dataframes on the \"Country Name\" and \"Year\" columns\n",
    "merged_lexpect = pd.merge(ww_eq, df_lexpect, on=['Country Name','Year'])\n",
    "\n",
    "# Display the first five rows of the merged dataframe\n",
    "merged_lexpect.head(5)"
   ]
  },
  {
   "cell_type": "markdown",
   "metadata": {},
   "source": [
    "***Data for Energy Consumption***"
   ]
  },
  {
   "cell_type": "markdown",
   "metadata": {},
   "source": [
    "Required columns are taken and renamed. "
   ]
  },
  {
   "cell_type": "code",
   "execution_count": 31,
   "metadata": {},
   "outputs": [
    {
     "data": {
      "text/plain": [
       "Index(['Entity', 'Code', 'Year', 'Energy consumption per capita (kWh)'], dtype='object')"
      ]
     },
     "execution_count": 31,
     "metadata": {},
     "output_type": "execute_result"
    }
   ],
   "source": [
    "energy.columns"
   ]
  },
  {
   "cell_type": "code",
   "execution_count": 32,
   "metadata": {
    "colab": {
     "base_uri": "https://localhost:8080/",
     "height": 81
    },
    "id": "hYM8EjakaHmC",
    "outputId": "89de5971-ffa3-4c73-de94-bf49eb1183a3"
   },
   "outputs": [
    {
     "data": {
      "text/html": [
       "<div>\n",
       "<style scoped>\n",
       "    .dataframe tbody tr th:only-of-type {\n",
       "        vertical-align: middle;\n",
       "    }\n",
       "\n",
       "    .dataframe tbody tr th {\n",
       "        vertical-align: top;\n",
       "    }\n",
       "\n",
       "    .dataframe thead th {\n",
       "        text-align: right;\n",
       "    }\n",
       "</style>\n",
       "<table border=\"1\" class=\"dataframe\">\n",
       "  <thead>\n",
       "    <tr style=\"text-align: right;\">\n",
       "      <th></th>\n",
       "      <th>Country Name</th>\n",
       "      <th>Year</th>\n",
       "      <th>Energy Consumption (Kwh)</th>\n",
       "    </tr>\n",
       "  </thead>\n",
       "  <tbody>\n",
       "    <tr>\n",
       "      <th>0</th>\n",
       "      <td>Afghanistan</td>\n",
       "      <td>1980</td>\n",
       "      <td>581.932201</td>\n",
       "    </tr>\n",
       "  </tbody>\n",
       "</table>\n",
       "</div>"
      ],
      "text/plain": [
       "  Country Name  Year  Energy Consumption (Kwh)\n",
       "0  Afghanistan  1980                581.932201"
      ]
     },
     "execution_count": 32,
     "metadata": {},
     "output_type": "execute_result"
    }
   ],
   "source": [
    "# Remove the \"Code\" column from the dataframe\n",
    "energy = energy.drop(axis = 1,labels = [\"Code\"])\n",
    "\n",
    "# Rename the \"Entity\" column to \"Country Name\"\n",
    "energy = energy.rename(columns={\"Entity\": \"Country Name\"})\n",
    "\n",
    "# Rename the \"Entity\" column to \"Country Name\"\n",
    "energy = energy.rename(columns={\"Energy consumption per capita (kWh)\": \"Energy consumption (kWh)\"})\n",
    "\n",
    "# Convert the column names to title case\n",
    "energy.columns = energy.columns.str.title()\n",
    "\n",
    "# Display the first row of the modified dataframe\n",
    "energy.head(1)"
   ]
  },
  {
   "cell_type": "markdown",
   "metadata": {},
   "source": [
    "The Energy Consumption Dataset is being merged with the Earthquakes Dataset."
   ]
  },
  {
   "cell_type": "code",
   "execution_count": 33,
   "metadata": {
    "colab": {
     "base_uri": "https://localhost:8080/",
     "height": 363
    },
    "id": "FXWYfcBP2pfl",
    "outputId": "7e457580-7c66-4bcd-bf61-0d1ee353c452",
    "scrolled": false
   },
   "outputs": [
    {
     "data": {
      "text/html": [
       "<div>\n",
       "<style scoped>\n",
       "    .dataframe tbody tr th:only-of-type {\n",
       "        vertical-align: middle;\n",
       "    }\n",
       "\n",
       "    .dataframe tbody tr th {\n",
       "        vertical-align: top;\n",
       "    }\n",
       "\n",
       "    .dataframe thead th {\n",
       "        text-align: right;\n",
       "    }\n",
       "</style>\n",
       "<table border=\"1\" class=\"dataframe\">\n",
       "  <thead>\n",
       "    <tr style=\"text-align: right;\">\n",
       "      <th></th>\n",
       "      <th>Country Name</th>\n",
       "      <th>Year</th>\n",
       "      <th>Eq Primary</th>\n",
       "      <th>Flag Tsunami</th>\n",
       "      <th>Total Damage Millions Dollars($)</th>\n",
       "      <th>Total Deaths</th>\n",
       "      <th>Latitude</th>\n",
       "      <th>Longitude</th>\n",
       "      <th>Energy Consumption (Kwh)</th>\n",
       "    </tr>\n",
       "  </thead>\n",
       "  <tbody>\n",
       "    <tr>\n",
       "      <th>0</th>\n",
       "      <td>China</td>\n",
       "      <td>1965</td>\n",
       "      <td>5.5</td>\n",
       "      <td>0</td>\n",
       "      <td>2219.880341</td>\n",
       "      <td>7618.511194</td>\n",
       "      <td>35.0</td>\n",
       "      <td>111.63</td>\n",
       "      <td>2115.707306</td>\n",
       "    </tr>\n",
       "    <tr>\n",
       "      <th>1</th>\n",
       "      <td>China</td>\n",
       "      <td>1965</td>\n",
       "      <td>6.1</td>\n",
       "      <td>0</td>\n",
       "      <td>2219.880341</td>\n",
       "      <td>7618.511194</td>\n",
       "      <td>22.4</td>\n",
       "      <td>101.60</td>\n",
       "      <td>2115.707306</td>\n",
       "    </tr>\n",
       "    <tr>\n",
       "      <th>2</th>\n",
       "      <td>China</td>\n",
       "      <td>1965</td>\n",
       "      <td>6.6</td>\n",
       "      <td>0</td>\n",
       "      <td>2219.880341</td>\n",
       "      <td>7618.511194</td>\n",
       "      <td>43.9</td>\n",
       "      <td>87.80</td>\n",
       "      <td>2115.707306</td>\n",
       "    </tr>\n",
       "    <tr>\n",
       "      <th>3</th>\n",
       "      <td>Indonesia</td>\n",
       "      <td>1965</td>\n",
       "      <td>7.6</td>\n",
       "      <td>1</td>\n",
       "      <td>483.055421</td>\n",
       "      <td>71.000000</td>\n",
       "      <td>-2.4</td>\n",
       "      <td>126.10</td>\n",
       "      <td>839.648074</td>\n",
       "    </tr>\n",
       "    <tr>\n",
       "      <th>4</th>\n",
       "      <td>Iran</td>\n",
       "      <td>1965</td>\n",
       "      <td>5.1</td>\n",
       "      <td>0</td>\n",
       "      <td>474.352381</td>\n",
       "      <td>7445.809091</td>\n",
       "      <td>37.6</td>\n",
       "      <td>47.10</td>\n",
       "      <td>3974.751894</td>\n",
       "    </tr>\n",
       "  </tbody>\n",
       "</table>\n",
       "</div>"
      ],
      "text/plain": [
       "  Country Name  Year  Eq Primary  Flag Tsunami  \\\n",
       "0        China  1965         5.5             0   \n",
       "1        China  1965         6.1             0   \n",
       "2        China  1965         6.6             0   \n",
       "3    Indonesia  1965         7.6             1   \n",
       "4         Iran  1965         5.1             0   \n",
       "\n",
       "   Total Damage Millions Dollars($)  Total Deaths  Latitude  Longitude  \\\n",
       "0                       2219.880341   7618.511194      35.0     111.63   \n",
       "1                       2219.880341   7618.511194      22.4     101.60   \n",
       "2                       2219.880341   7618.511194      43.9      87.80   \n",
       "3                        483.055421     71.000000      -2.4     126.10   \n",
       "4                        474.352381   7445.809091      37.6      47.10   \n",
       "\n",
       "   Energy Consumption (Kwh)  \n",
       "0               2115.707306  \n",
       "1               2115.707306  \n",
       "2               2115.707306  \n",
       "3                839.648074  \n",
       "4               3974.751894  "
      ]
     },
     "execution_count": 33,
     "metadata": {},
     "output_type": "execute_result"
    }
   ],
   "source": [
    "# Merge the two dataframes on the \"Country Name\" and \"Year\" columns\n",
    "merged_energy = pd.merge(ww_eq, energy, on=['Country Name','Year'])\n",
    "# Display the first five rows of the merged dataframe\n",
    "merged_energy.head(5)"
   ]
  },
  {
   "cell_type": "markdown",
   "metadata": {},
   "source": [
    "Drop rows with missing or null values in the Eq Primary column"
   ]
  },
  {
   "cell_type": "code",
   "execution_count": 34,
   "metadata": {},
   "outputs": [],
   "source": [
    "# Drop rows with missing or null values in the Eq Primary column\n",
    "merged_energy = merged_energy.dropna(subset= [\"Eq Primary\"])"
   ]
  },
  {
   "cell_type": "markdown",
   "metadata": {},
   "source": [
    "As we can see below, we have 1276 data in total, but only 62 of them show Energy Consumption greater than 50000. In order to work with more relevant data, we filtered out these values"
   ]
  },
  {
   "cell_type": "code",
   "execution_count": 35,
   "metadata": {},
   "outputs": [
    {
     "name": "stdout",
     "output_type": "stream",
     "text": [
      "(1270, 9)\n",
      "(62, 9)\n"
     ]
    }
   ],
   "source": [
    "print(merged_energy.shape)\n",
    "print(merged_energy[merged_energy[\"Energy Consumption (Kwh)\"]>50000].shape)\n",
    "merged_energy = merged_energy[merged_energy[\"Energy Consumption (Kwh)\"]< 50000]"
   ]
  },
  {
   "cell_type": "markdown",
   "metadata": {},
   "source": [
    "***EDA OF MERGED DATASETS***"
   ]
  },
  {
   "cell_type": "code",
   "execution_count": 36,
   "metadata": {},
   "outputs": [
    {
     "name": "stdout",
     "output_type": "stream",
     "text": [
      "(77, 10)\n",
      "Country Name                        0\n",
      "Year                                0\n",
      "Eq Primary                          0\n",
      "Flag Tsunami                        0\n",
      "Total Damage Millions Dollars($)    0\n",
      "Total Deaths                        0\n",
      "Latitude                            0\n",
      "Longitude                           0\n",
      "Country Code                        0\n",
      "Value                               0\n",
      "dtype: int64\n"
     ]
    },
    {
     "data": {
      "text/html": [
       "<div>\n",
       "<style scoped>\n",
       "    .dataframe tbody tr th:only-of-type {\n",
       "        vertical-align: middle;\n",
       "    }\n",
       "\n",
       "    .dataframe tbody tr th {\n",
       "        vertical-align: top;\n",
       "    }\n",
       "\n",
       "    .dataframe thead th {\n",
       "        text-align: right;\n",
       "    }\n",
       "</style>\n",
       "<table border=\"1\" class=\"dataframe\">\n",
       "  <thead>\n",
       "    <tr style=\"text-align: right;\">\n",
       "      <th></th>\n",
       "      <th>Country Name</th>\n",
       "      <th>Year</th>\n",
       "      <th>Eq Primary</th>\n",
       "      <th>Flag Tsunami</th>\n",
       "      <th>Total Damage Millions Dollars($)</th>\n",
       "      <th>Total Deaths</th>\n",
       "      <th>Latitude</th>\n",
       "      <th>Longitude</th>\n",
       "      <th>Country Code</th>\n",
       "      <th>Value</th>\n",
       "    </tr>\n",
       "  </thead>\n",
       "  <tbody>\n",
       "    <tr>\n",
       "      <th>1</th>\n",
       "      <td>New Zealand</td>\n",
       "      <td>2014</td>\n",
       "      <td>6.1</td>\n",
       "      <td>0</td>\n",
       "      <td>4772.500000</td>\n",
       "      <td>46.900000</td>\n",
       "      <td>-40.660</td>\n",
       "      <td>175.814</td>\n",
       "      <td>NZL</td>\n",
       "      <td>201313497220.917</td>\n",
       "    </tr>\n",
       "    <tr>\n",
       "      <th>2</th>\n",
       "      <td>New Zealand</td>\n",
       "      <td>2014</td>\n",
       "      <td>6.9</td>\n",
       "      <td>1</td>\n",
       "      <td>4772.500000</td>\n",
       "      <td>46.900000</td>\n",
       "      <td>-29.977</td>\n",
       "      <td>-177.725</td>\n",
       "      <td>NZL</td>\n",
       "      <td>201313497220.917</td>\n",
       "    </tr>\n",
       "    <tr>\n",
       "      <th>5</th>\n",
       "      <td>Greece</td>\n",
       "      <td>2014</td>\n",
       "      <td>6.1</td>\n",
       "      <td>0</td>\n",
       "      <td>2339.000000</td>\n",
       "      <td>1494.754717</td>\n",
       "      <td>38.208</td>\n",
       "      <td>20.453</td>\n",
       "      <td>GRC</td>\n",
       "      <td>235458133124.608</td>\n",
       "    </tr>\n",
       "    <tr>\n",
       "      <th>6</th>\n",
       "      <td>Greece</td>\n",
       "      <td>2014</td>\n",
       "      <td>6.0</td>\n",
       "      <td>0</td>\n",
       "      <td>860.123077</td>\n",
       "      <td>1494.754717</td>\n",
       "      <td>38.244</td>\n",
       "      <td>20.379</td>\n",
       "      <td>GRC</td>\n",
       "      <td>235458133124.608</td>\n",
       "    </tr>\n",
       "    <tr>\n",
       "      <th>7</th>\n",
       "      <td>China</td>\n",
       "      <td>2014</td>\n",
       "      <td>6.9</td>\n",
       "      <td>0</td>\n",
       "      <td>2219.880341</td>\n",
       "      <td>7618.511194</td>\n",
       "      <td>35.905</td>\n",
       "      <td>82.586</td>\n",
       "      <td>CHN</td>\n",
       "      <td>10475682920597.7</td>\n",
       "    </tr>\n",
       "  </tbody>\n",
       "</table>\n",
       "</div>"
      ],
      "text/plain": [
       "  Country Name  Year  Eq Primary  Flag Tsunami  \\\n",
       "1  New Zealand  2014         6.1             0   \n",
       "2  New Zealand  2014         6.9             1   \n",
       "5       Greece  2014         6.1             0   \n",
       "6       Greece  2014         6.0             0   \n",
       "7        China  2014         6.9             0   \n",
       "\n",
       "   Total Damage Millions Dollars($)  Total Deaths  Latitude  Longitude  \\\n",
       "1                       4772.500000     46.900000   -40.660    175.814   \n",
       "2                       4772.500000     46.900000   -29.977   -177.725   \n",
       "5                       2339.000000   1494.754717    38.208     20.453   \n",
       "6                        860.123077   1494.754717    38.244     20.379   \n",
       "7                       2219.880341   7618.511194    35.905     82.586   \n",
       "\n",
       "  Country Code             Value  \n",
       "1          NZL  201313497220.917  \n",
       "2          NZL  201313497220.917  \n",
       "5          GRC  235458133124.608  \n",
       "6          GRC  235458133124.608  \n",
       "7          CHN  10475682920597.7  "
      ]
     },
     "execution_count": 36,
     "metadata": {},
     "output_type": "execute_result"
    }
   ],
   "source": [
    "print(merged_economy.shape)\n",
    "print(merged_economy.isnull().sum())\n",
    "merged_economy.head(5)"
   ]
  },
  {
   "cell_type": "code",
   "execution_count": 37,
   "metadata": {},
   "outputs": [
    {
     "name": "stdout",
     "output_type": "stream",
     "text": [
      "(1208, 9)\n",
      "Country Name                        0\n",
      "Year                                0\n",
      "Eq Primary                          0\n",
      "Flag Tsunami                        0\n",
      "Total Damage Millions Dollars($)    0\n",
      "Total Deaths                        0\n",
      "Latitude                            0\n",
      "Longitude                           0\n",
      "Energy Consumption (Kwh)            0\n",
      "dtype: int64\n"
     ]
    },
    {
     "data": {
      "text/html": [
       "<div>\n",
       "<style scoped>\n",
       "    .dataframe tbody tr th:only-of-type {\n",
       "        vertical-align: middle;\n",
       "    }\n",
       "\n",
       "    .dataframe tbody tr th {\n",
       "        vertical-align: top;\n",
       "    }\n",
       "\n",
       "    .dataframe thead th {\n",
       "        text-align: right;\n",
       "    }\n",
       "</style>\n",
       "<table border=\"1\" class=\"dataframe\">\n",
       "  <thead>\n",
       "    <tr style=\"text-align: right;\">\n",
       "      <th></th>\n",
       "      <th>Country Name</th>\n",
       "      <th>Year</th>\n",
       "      <th>Eq Primary</th>\n",
       "      <th>Flag Tsunami</th>\n",
       "      <th>Total Damage Millions Dollars($)</th>\n",
       "      <th>Total Deaths</th>\n",
       "      <th>Latitude</th>\n",
       "      <th>Longitude</th>\n",
       "      <th>Energy Consumption (Kwh)</th>\n",
       "    </tr>\n",
       "  </thead>\n",
       "  <tbody>\n",
       "    <tr>\n",
       "      <th>0</th>\n",
       "      <td>China</td>\n",
       "      <td>1965</td>\n",
       "      <td>5.5</td>\n",
       "      <td>0</td>\n",
       "      <td>2219.880341</td>\n",
       "      <td>7618.511194</td>\n",
       "      <td>35.0</td>\n",
       "      <td>111.63</td>\n",
       "      <td>2115.707306</td>\n",
       "    </tr>\n",
       "    <tr>\n",
       "      <th>1</th>\n",
       "      <td>China</td>\n",
       "      <td>1965</td>\n",
       "      <td>6.1</td>\n",
       "      <td>0</td>\n",
       "      <td>2219.880341</td>\n",
       "      <td>7618.511194</td>\n",
       "      <td>22.4</td>\n",
       "      <td>101.60</td>\n",
       "      <td>2115.707306</td>\n",
       "    </tr>\n",
       "    <tr>\n",
       "      <th>2</th>\n",
       "      <td>China</td>\n",
       "      <td>1965</td>\n",
       "      <td>6.6</td>\n",
       "      <td>0</td>\n",
       "      <td>2219.880341</td>\n",
       "      <td>7618.511194</td>\n",
       "      <td>43.9</td>\n",
       "      <td>87.80</td>\n",
       "      <td>2115.707306</td>\n",
       "    </tr>\n",
       "    <tr>\n",
       "      <th>3</th>\n",
       "      <td>Indonesia</td>\n",
       "      <td>1965</td>\n",
       "      <td>7.6</td>\n",
       "      <td>1</td>\n",
       "      <td>483.055421</td>\n",
       "      <td>71.000000</td>\n",
       "      <td>-2.4</td>\n",
       "      <td>126.10</td>\n",
       "      <td>839.648074</td>\n",
       "    </tr>\n",
       "    <tr>\n",
       "      <th>4</th>\n",
       "      <td>Iran</td>\n",
       "      <td>1965</td>\n",
       "      <td>5.1</td>\n",
       "      <td>0</td>\n",
       "      <td>474.352381</td>\n",
       "      <td>7445.809091</td>\n",
       "      <td>37.6</td>\n",
       "      <td>47.10</td>\n",
       "      <td>3974.751894</td>\n",
       "    </tr>\n",
       "  </tbody>\n",
       "</table>\n",
       "</div>"
      ],
      "text/plain": [
       "  Country Name  Year  Eq Primary  Flag Tsunami  \\\n",
       "0        China  1965         5.5             0   \n",
       "1        China  1965         6.1             0   \n",
       "2        China  1965         6.6             0   \n",
       "3    Indonesia  1965         7.6             1   \n",
       "4         Iran  1965         5.1             0   \n",
       "\n",
       "   Total Damage Millions Dollars($)  Total Deaths  Latitude  Longitude  \\\n",
       "0                       2219.880341   7618.511194      35.0     111.63   \n",
       "1                       2219.880341   7618.511194      22.4     101.60   \n",
       "2                       2219.880341   7618.511194      43.9      87.80   \n",
       "3                        483.055421     71.000000      -2.4     126.10   \n",
       "4                        474.352381   7445.809091      37.6      47.10   \n",
       "\n",
       "   Energy Consumption (Kwh)  \n",
       "0               2115.707306  \n",
       "1               2115.707306  \n",
       "2               2115.707306  \n",
       "3                839.648074  \n",
       "4               3974.751894  "
      ]
     },
     "execution_count": 37,
     "metadata": {},
     "output_type": "execute_result"
    }
   ],
   "source": [
    "print(merged_energy.shape)\n",
    "print(merged_energy.isnull().sum())\n",
    "merged_energy.head(5)"
   ]
  },
  {
   "cell_type": "code",
   "execution_count": 38,
   "metadata": {},
   "outputs": [
    {
     "name": "stdout",
     "output_type": "stream",
     "text": [
      "(442, 9)\n",
      "Country Name                        0\n",
      "Year                                0\n",
      "Eq Primary                          0\n",
      "Flag Tsunami                        0\n",
      "Total Damage Millions Dollars($)    0\n",
      "Total Deaths                        0\n",
      "Latitude                            0\n",
      "Longitude                           0\n",
      "Life Expectancy                     0\n",
      "dtype: int64\n"
     ]
    },
    {
     "data": {
      "text/html": [
       "<div>\n",
       "<style scoped>\n",
       "    .dataframe tbody tr th:only-of-type {\n",
       "        vertical-align: middle;\n",
       "    }\n",
       "\n",
       "    .dataframe tbody tr th {\n",
       "        vertical-align: top;\n",
       "    }\n",
       "\n",
       "    .dataframe thead th {\n",
       "        text-align: right;\n",
       "    }\n",
       "</style>\n",
       "<table border=\"1\" class=\"dataframe\">\n",
       "  <thead>\n",
       "    <tr style=\"text-align: right;\">\n",
       "      <th></th>\n",
       "      <th>Country Name</th>\n",
       "      <th>Year</th>\n",
       "      <th>Eq Primary</th>\n",
       "      <th>Flag Tsunami</th>\n",
       "      <th>Total Damage Millions Dollars($)</th>\n",
       "      <th>Total Deaths</th>\n",
       "      <th>Latitude</th>\n",
       "      <th>Longitude</th>\n",
       "      <th>Life Expectancy</th>\n",
       "    </tr>\n",
       "  </thead>\n",
       "  <tbody>\n",
       "    <tr>\n",
       "      <th>0</th>\n",
       "      <td>India</td>\n",
       "      <td>2000</td>\n",
       "      <td>4.6</td>\n",
       "      <td>0</td>\n",
       "      <td>362.577778</td>\n",
       "      <td>1835.117647</td>\n",
       "      <td>22.132</td>\n",
       "      <td>92.771</td>\n",
       "      <td>62.5</td>\n",
       "    </tr>\n",
       "    <tr>\n",
       "      <th>1</th>\n",
       "      <td>China</td>\n",
       "      <td>2000</td>\n",
       "      <td>5.1</td>\n",
       "      <td>0</td>\n",
       "      <td>2219.880341</td>\n",
       "      <td>7618.511194</td>\n",
       "      <td>40.498</td>\n",
       "      <td>122.994</td>\n",
       "      <td>71.7</td>\n",
       "    </tr>\n",
       "    <tr>\n",
       "      <th>2</th>\n",
       "      <td>China</td>\n",
       "      <td>2000</td>\n",
       "      <td>6.3</td>\n",
       "      <td>0</td>\n",
       "      <td>2219.880341</td>\n",
       "      <td>7618.511194</td>\n",
       "      <td>26.856</td>\n",
       "      <td>97.238</td>\n",
       "      <td>71.7</td>\n",
       "    </tr>\n",
       "    <tr>\n",
       "      <th>3</th>\n",
       "      <td>Japan</td>\n",
       "      <td>2000</td>\n",
       "      <td>7.6</td>\n",
       "      <td>0</td>\n",
       "      <td>14681.068741</td>\n",
       "      <td>2983.394958</td>\n",
       "      <td>22.338</td>\n",
       "      <td>143.730</td>\n",
       "      <td>81.1</td>\n",
       "    </tr>\n",
       "    <tr>\n",
       "      <th>4</th>\n",
       "      <td>Japan</td>\n",
       "      <td>2000</td>\n",
       "      <td>6.1</td>\n",
       "      <td>1</td>\n",
       "      <td>14681.068741</td>\n",
       "      <td>2983.394958</td>\n",
       "      <td>34.319</td>\n",
       "      <td>139.260</td>\n",
       "      <td>81.1</td>\n",
       "    </tr>\n",
       "  </tbody>\n",
       "</table>\n",
       "</div>"
      ],
      "text/plain": [
       "  Country Name  Year  Eq Primary  Flag Tsunami  \\\n",
       "0        India  2000         4.6             0   \n",
       "1        China  2000         5.1             0   \n",
       "2        China  2000         6.3             0   \n",
       "3        Japan  2000         7.6             0   \n",
       "4        Japan  2000         6.1             1   \n",
       "\n",
       "   Total Damage Millions Dollars($)  Total Deaths  Latitude  Longitude  \\\n",
       "0                        362.577778   1835.117647    22.132     92.771   \n",
       "1                       2219.880341   7618.511194    40.498    122.994   \n",
       "2                       2219.880341   7618.511194    26.856     97.238   \n",
       "3                      14681.068741   2983.394958    22.338    143.730   \n",
       "4                      14681.068741   2983.394958    34.319    139.260   \n",
       "\n",
       "   Life Expectancy  \n",
       "0             62.5  \n",
       "1             71.7  \n",
       "2             71.7  \n",
       "3             81.1  \n",
       "4             81.1  "
      ]
     },
     "execution_count": 38,
     "metadata": {},
     "output_type": "execute_result"
    }
   ],
   "source": [
    "print(merged_lexpect.shape)\n",
    "print(merged_lexpect.isnull().sum())\n",
    "merged_lexpect.head(5)"
   ]
  },
  {
   "cell_type": "code",
   "execution_count": 39,
   "metadata": {},
   "outputs": [
    {
     "name": "stdout",
     "output_type": "stream",
     "text": [
      "(558, 10)\n",
      "Country Name                        0\n",
      "Year                                0\n",
      "Eq Primary                          0\n",
      "Flag Tsunami                        0\n",
      "Total Damage Millions Dollars($)    0\n",
      "Total Deaths                        0\n",
      "Latitude                            0\n",
      "Longitude                           0\n",
      "Country Code                        0\n",
      "Value                               0\n",
      "dtype: int64\n"
     ]
    },
    {
     "data": {
      "text/html": [
       "<div>\n",
       "<style scoped>\n",
       "    .dataframe tbody tr th:only-of-type {\n",
       "        vertical-align: middle;\n",
       "    }\n",
       "\n",
       "    .dataframe tbody tr th {\n",
       "        vertical-align: top;\n",
       "    }\n",
       "\n",
       "    .dataframe thead th {\n",
       "        text-align: right;\n",
       "    }\n",
       "</style>\n",
       "<table border=\"1\" class=\"dataframe\">\n",
       "  <thead>\n",
       "    <tr style=\"text-align: right;\">\n",
       "      <th></th>\n",
       "      <th>Country Name</th>\n",
       "      <th>Year</th>\n",
       "      <th>Eq Primary</th>\n",
       "      <th>Flag Tsunami</th>\n",
       "      <th>Total Damage Millions Dollars($)</th>\n",
       "      <th>Total Deaths</th>\n",
       "      <th>Latitude</th>\n",
       "      <th>Longitude</th>\n",
       "      <th>Country Code</th>\n",
       "      <th>Value</th>\n",
       "    </tr>\n",
       "  </thead>\n",
       "  <tbody>\n",
       "    <tr>\n",
       "      <th>0</th>\n",
       "      <td>India</td>\n",
       "      <td>2000</td>\n",
       "      <td>4.6</td>\n",
       "      <td>0</td>\n",
       "      <td>362.577778</td>\n",
       "      <td>1835.117647</td>\n",
       "      <td>22.132</td>\n",
       "      <td>92.771</td>\n",
       "      <td>IND</td>\n",
       "      <td>0.151665</td>\n",
       "    </tr>\n",
       "    <tr>\n",
       "      <th>1</th>\n",
       "      <td>China</td>\n",
       "      <td>2000</td>\n",
       "      <td>5.1</td>\n",
       "      <td>0</td>\n",
       "      <td>2219.880341</td>\n",
       "      <td>7618.511194</td>\n",
       "      <td>40.498</td>\n",
       "      <td>122.994</td>\n",
       "      <td>CHN</td>\n",
       "      <td>0.306434</td>\n",
       "    </tr>\n",
       "    <tr>\n",
       "      <th>2</th>\n",
       "      <td>China</td>\n",
       "      <td>2000</td>\n",
       "      <td>6.3</td>\n",
       "      <td>0</td>\n",
       "      <td>2219.880341</td>\n",
       "      <td>7618.511194</td>\n",
       "      <td>26.856</td>\n",
       "      <td>97.238</td>\n",
       "      <td>CHN</td>\n",
       "      <td>0.306434</td>\n",
       "    </tr>\n",
       "    <tr>\n",
       "      <th>3</th>\n",
       "      <td>Japan</td>\n",
       "      <td>2000</td>\n",
       "      <td>7.6</td>\n",
       "      <td>0</td>\n",
       "      <td>14681.068741</td>\n",
       "      <td>2983.394958</td>\n",
       "      <td>22.338</td>\n",
       "      <td>143.730</td>\n",
       "      <td>JPN</td>\n",
       "      <td>0.582759</td>\n",
       "    </tr>\n",
       "    <tr>\n",
       "      <th>4</th>\n",
       "      <td>Japan</td>\n",
       "      <td>2000</td>\n",
       "      <td>6.1</td>\n",
       "      <td>1</td>\n",
       "      <td>14681.068741</td>\n",
       "      <td>2983.394958</td>\n",
       "      <td>34.319</td>\n",
       "      <td>139.260</td>\n",
       "      <td>JPN</td>\n",
       "      <td>0.582759</td>\n",
       "    </tr>\n",
       "  </tbody>\n",
       "</table>\n",
       "</div>"
      ],
      "text/plain": [
       "  Country Name  Year  Eq Primary  Flag Tsunami  \\\n",
       "0        India  2000         4.6             0   \n",
       "1        China  2000         5.1             0   \n",
       "2        China  2000         6.3             0   \n",
       "3        Japan  2000         7.6             0   \n",
       "4        Japan  2000         6.1             1   \n",
       "\n",
       "   Total Damage Millions Dollars($)  Total Deaths  Latitude  Longitude  \\\n",
       "0                        362.577778   1835.117647    22.132     92.771   \n",
       "1                       2219.880341   7618.511194    40.498    122.994   \n",
       "2                       2219.880341   7618.511194    26.856     97.238   \n",
       "3                      14681.068741   2983.394958    22.338    143.730   \n",
       "4                      14681.068741   2983.394958    34.319    139.260   \n",
       "\n",
       "  Country Code     Value  \n",
       "0          IND  0.151665  \n",
       "1          CHN  0.306434  \n",
       "2          CHN  0.306434  \n",
       "3          JPN  0.582759  \n",
       "4          JPN  0.582759  "
      ]
     },
     "execution_count": 39,
     "metadata": {},
     "output_type": "execute_result"
    }
   ],
   "source": [
    "print(merged_tech.shape)\n",
    "print(merged_tech.isnull().sum())\n",
    "merged_tech.head(5)"
   ]
  },
  {
   "cell_type": "markdown",
   "metadata": {},
   "source": [
    "***Visualization Part***"
   ]
  },
  {
   "cell_type": "markdown",
   "metadata": {},
   "source": [
    "Basemap for distribution of earthquakes in the world"
   ]
  },
  {
   "cell_type": "code",
   "execution_count": 40,
   "metadata": {},
   "outputs": [
    {
     "data": {
      "image/png": "[encoded data removed]",
      "text/plain": [
       "<Figure size 864x432 with 1 Axes>"
      ]
     },
     "metadata": {},
     "output_type": "display_data"
    }
   ],
   "source": [
    "# Create a map with the Basemap library\n",
    "m = Basemap()\n",
    "\n",
    "# Set size of Basemap \n",
    "fig, ax = plt.subplots(figsize=(12, 6))\n",
    "\n",
    "# Fill the continents with a color and draw a white border around the map\n",
    "m.fillcontinents(color= \"skyblue\", lake_color='#FFFFFF')\n",
    "m.drawmapboundary(fill_color='#FFFFFF')\n",
    "\n",
    "# Project the longitude and latitude coordinates onto the map\n",
    "x, y = m(ww_eq['Longitude'], ww_eq['Latitude'])\n",
    "\n",
    "# Plot a scatter plot on the map using the projected coordinates\n",
    "plt.scatter(x, y, 3, marker='o', color='salmon') \n",
    "\n",
    "# Set the title of the plot\n",
    "plt.title('Places where earthquakes occur')\n",
    "\n",
    "# Show the plot\n",
    "plt.show()"
   ]
  },
  {
   "cell_type": "markdown",
   "metadata": {},
   "source": [
    "Plots of Merged Datasets without defining a limit for magnitude of earthquakes"
   ]
  },
  {
   "cell_type": "code",
   "execution_count": 41,
   "metadata": {},
   "outputs": [
    {
     "name": "stderr",
     "output_type": "stream",
     "text": [
      "C:\\Users\\Hp\\AppData\\Local\\Temp\\ipykernel_8412\\603480792.py:29: UserWarning: FixedFormatter should only be used together with FixedLocator\n",
      "  axs[0, 1].set_xticklabels(axs[0, 1].get_xticklabels(), rotation=90)\n"
     ]
    },
    {
     "data": {
      "text/plain": [
       "Text(0.5, 1.0, 'Energy Consumption vs. Total Damage Millions Dollars($)')"
      ]
     },
     "execution_count": 41,
     "metadata": {},
     "output_type": "execute_result"
    },
    {
     "data": {
      "image/png": "[encoded data removed]",
      "text/plain": [
       "<Figure size 1440x720 with 4 Axes>"
      ]
     },
     "metadata": {
      "needs_background": "light"
     },
     "output_type": "display_data"
    }
   ],
   "source": [
    "# Create a figure with 2 rows and 2 columns\n",
    "fig, axs = plt.subplots(2, 2, figsize=(20, 10))\n",
    "\n",
    "# Extract the \"Value\" and \"Total Damage Millions Dollars\" columns from the dataframe, for rows where the \"Eq Primary\" column is greater than 8\n",
    "x1 = merged_tech['Value']\n",
    "y1 = merged_tech['Total Damage Millions Dollars($)']\n",
    "\n",
    "# Plot the first scatter plot in the first subplot\n",
    "axs[0, 0].scatter(x1, y1,s = 5)\n",
    "\n",
    "# Add labels and a title to the plot\n",
    "axs[0, 0].set_xlabel('Technology Power')\n",
    "axs[0, 0].set_ylabel('Total Damage Millions Dollars($)')\n",
    "axs[0, 0].set_title('Total Damage Millions Dollars($)')\n",
    "\n",
    "# Extract the \"Value\" and \"Total Damage Millions Dollars\" columns from the dataframe, for rows where the \"Eq Primary\" column is between 7 and 8\n",
    "x2 = merged_economy['Value']\n",
    "y2 = merged_economy['Total Damage Millions Dollars($)']\n",
    "\n",
    "# Plot the second scatter plot in the second subplot\n",
    "axs[0, 1].scatter(x2, y2,s = 10)\n",
    "\n",
    "# Add labels and a title to the plot\n",
    "axs[0, 1].set_xlabel('Economy')\n",
    "axs[0, 1].set_ylabel('Total Damage Millions Dollars($)')\n",
    "axs[0, 1].set_title('Economy vs. Total Damage Millions Dollars($)')\n",
    "\n",
    "# Rotate the x-axis labels on the second plot\n",
    "axs[0, 1].set_xticklabels(axs[0, 1].get_xticklabels(), rotation=90)\n",
    "\n",
    "# Extract the \"Life Expectancy\" and \"Total Damage Millions Dollars\" columns from the dataframe, for rows where the \"Eq Primary\" column is greater than 8\n",
    "x3 = merged_lexpect['Life Expectancy']\n",
    "y3 = merged_lexpect['Total Damage Millions Dollars($)']\n",
    "\n",
    "# Plot the third scatter plot in the third subplot\n",
    "axs[1, 0].scatter(x3, y3,s = 4)\n",
    "\n",
    "# Add labels and a title to the plot\n",
    "axs[1, 0].set_xlabel('Life Expectancy')\n",
    "axs[1, 0].set_ylabel('Total Damage Millions Dollars($)')\n",
    "axs[1, 0].set_title('Life Expectancy vs. Total Damage Millions Dollars($)')\n",
    "\n",
    "# Extract the \"Energy Consumption Per Capita (Kwh)\" and \"Total Damage Millions Dollars\" columns from the dataframe, for rows where the \"Eq Primary\" column is between 8 and 9\n",
    "x4 = merged_energy['Energy Consumption (Kwh)']\n",
    "y4 = merged_energy['Total Damage Millions Dollars($)']\n",
    "# Plot the third scatter plot in the fourth subplot\n",
    "axs[1, 1].scatter(x4, y4,s = 4)\n",
    "\n",
    "# Add labels and a title to the plot\n",
    "axs[1, 1].set_xlabel('Energy Consumption')\n",
    "axs[1, 1].set_ylabel('Total Damage Millions Dollars($)')\n",
    "axs[1, 1].set_title('Energy Consumption vs. Total Damage Millions Dollars($)')"
   ]
  },
  {
   "cell_type": "markdown",
   "metadata": {},
   "source": [
    "Technology Data Scatter Plot"
   ]
  },
  {
   "cell_type": "code",
   "execution_count": 42,
   "metadata": {},
   "outputs": [
    {
     "data": {
      "image/png": "[encoded data removed]",
      "text/plain": [
       "<Figure size 720x360 with 1 Axes>"
      ]
     },
     "metadata": {
      "needs_background": "light"
     },
     "output_type": "display_data"
    }
   ],
   "source": [
    "# Create a figure with a specified size\n",
    "plt.figure(figsize=(10,5))\n",
    "\n",
    "# Extract the \"Value\" and \"Total Damage Millions Dollars\" columns from the dataframe, for rows where the \"Eq Primary\" column is greater than 8\n",
    "x = merged_tech[(merged_tech['Eq Primary'] >7) ]['Value']\n",
    "y = merged_tech[(merged_tech['Eq Primary'] > 7)]['Total Damage Millions Dollars($)']\n",
    "\n",
    "# Plot a scatter plot using the extracted columns\n",
    "plt.scatter(x, y,s = 10)\n",
    "\n",
    "# Add labels and a title to the plot\n",
    "plt.xlabel('Technology Power')\n",
    "plt.ylabel('Total Damage Millions Dollars($)')\n",
    "plt.title('Technology Power vs. Total Damage Millions Dollars($)')\n",
    "\n",
    "# Display the plot\n",
    "plt.show()"
   ]
  },
  {
   "cell_type": "markdown",
   "metadata": {},
   "source": [
    "Economy Data Scatter Plot"
   ]
  },
  {
   "cell_type": "code",
   "execution_count": 43,
   "metadata": {},
   "outputs": [
    {
     "data": {
      "image/png": "[encoded data removed]",
      "text/plain": [
       "<Figure size 720x360 with 1 Axes>"
      ]
     },
     "metadata": {
      "needs_background": "light"
     },
     "output_type": "display_data"
    }
   ],
   "source": [
    "# Create a figure with a specified size\n",
    "plt.figure(figsize=(10,5))\n",
    "\n",
    "# Extract the \"Value\" and \"Total Damage Millions Dollars\" columns from the dataframe, for rows where the \"Eq Primary\" column is between 7 and 8\n",
    "x = merged_economy[(merged_economy['Eq Primary'] > 7) & (merged_economy['Eq Primary'] < 9)]['Value']\n",
    "y = merged_economy[(merged_economy['Eq Primary'] > 7) & \\\n",
    "                   (merged_economy['Eq Primary'] < 9)]['Total Damage Millions Dollars($)']\n",
    "\n",
    "# Plot a scatter plot using the extracted columns\n",
    "plt.scatter(x, y,s = 10)\n",
    "\n",
    "# Add labels and a title to the plot\n",
    "plt.xlabel('Economy')\n",
    "plt.ylabel('Total Damage Millions Dollars($)')\n",
    "plt.title('Economy vs. Total Damage Millions Dollars($)')\n",
    "\n",
    "# Rotate the x-axis labels\n",
    "plt.xticks(rotation=90)\n",
    "\n",
    "# Display the plot\n",
    "plt.show()"
   ]
  },
  {
   "cell_type": "markdown",
   "metadata": {},
   "source": [
    "Life Expectancy Data Scatter Plot"
   ]
  },
  {
   "cell_type": "code",
   "execution_count": 44,
   "metadata": {},
   "outputs": [
    {
     "data": {
      "image/png": "[encoded data removed]",
      "text/plain": [
       "<Figure size 720x360 with 1 Axes>"
      ]
     },
     "metadata": {
      "needs_background": "light"
     },
     "output_type": "display_data"
    }
   ],
   "source": [
    "# Create a figure with a specified size\n",
    "plt.figure(figsize=(10,5))\n",
    "\n",
    "# Extract the \"Life Expectancy\" and \"Total Damage Millions Dollars\" columns from the dataframe, for rows where the \"Eq Primary\" column is greater than 8\n",
    "x = merged_lexpect[(merged_lexpect['Eq Primary'] > 7)]\\\n",
    "['Life Expectancy']\n",
    "y = merged_lexpect[(merged_lexpect['Eq Primary'] > 7)]\\\n",
    "['Total Damage Millions Dollars($)']\n",
    "\n",
    "# Plot a scatter plot using the extracted columns\n",
    "plt.scatter(x, y,s = 10)\n",
    "\n",
    "# Add labels and a title to the plot\n",
    "plt.xlabel('Life Expectancy')\n",
    "plt.ylabel('Total Damage Millions Dollars($)')\n",
    "plt.title('Life Expectancy vs. Total Damage Millions Dollars($)')\n",
    "\n",
    "# Display the plot\n",
    "plt.show()"
   ]
  },
  {
   "cell_type": "markdown",
   "metadata": {},
   "source": [
    "Energy Consumption Data Scatter Plot"
   ]
  },
  {
   "cell_type": "code",
   "execution_count": 45,
   "metadata": {},
   "outputs": [
    {
     "data": {
      "image/png": "[encoded data removed]",
      "text/plain": [
       "<Figure size 720x360 with 1 Axes>"
      ]
     },
     "metadata": {
      "needs_background": "light"
     },
     "output_type": "display_data"
    }
   ],
   "source": [
    "# Create a figure with a specified size\n",
    "plt.figure(figsize=(10,5))\n",
    "\n",
    "# Extract the \"Energy Consumption Per Capita (Kwh)\" and \"Total Damage Millions Dollars\" columns from the dataframe, for rows where the \"Eq Primary\" column is between 8 and 9\n",
    "x = merged_energy[(merged_energy['Eq Primary'] > 8) & (merged_energy['Eq Primary'] < 9)]\\\n",
    "                  ['Energy Consumption (Kwh)']\n",
    "                  \n",
    "y = merged_energy[(merged_energy['Eq Primary'] > 8) & (merged_energy['Eq Primary'] < 9)]\\\n",
    "                  ['Total Damage Millions Dollars($)']\n",
    "\n",
    "# Plot a scatter plot using the extracted columns\n",
    "plt.scatter(x, y,s = 10)\n",
    "\n",
    "# Add labels and a title to the plot\n",
    "plt.xlabel('Energy Consumption')\n",
    "plt.ylabel('Total Damage Millions Dollars($)')\n",
    "plt.title('Energy Consumption vs. Total Damage Millions Dollars($)')\n",
    "\n",
    "# Display the plot\n",
    "plt.show()"
   ]
  },
  {
   "cell_type": "markdown",
   "metadata": {},
   "source": [
    "***Correlation Matrices of Merged Datasets***"
   ]
  },
  {
   "cell_type": "code",
   "execution_count": 46,
   "metadata": {},
   "outputs": [
    {
     "data": {
      "text/plain": [
       "Text(0.5, 1.0, 'Technology')"
      ]
     },
     "execution_count": 46,
     "metadata": {},
     "output_type": "execute_result"
    },
    {
     "data": {
      "image/png": "[encoded data removed]",
      "text/plain": [
       "<Figure size 3600x2880 with 8 Axes>"
      ]
     },
     "metadata": {
      "needs_background": "light"
     },
     "output_type": "display_data"
    }
   ],
   "source": [
    "# create a figure and a set of subplots\n",
    "fig, ax = plt.subplots(nrows=2, ncols=2, figsize=(50,40))\n",
    "\n",
    "# plot the first heatmap on the first subplot\n",
    "sns.heatmap(merged_economy.corr(), ax=ax[0,0])\n",
    "ax[0,0].set_title(\"Economy\", fontsize=50)\n",
    "\n",
    "# plot the second heatmap on the second subplot\n",
    "sns.heatmap(merged_energy.corr(), ax=ax[0,1])\n",
    "ax[0,1].set_title(\"Energy\", fontsize=50)\n",
    "# plot the third heatmap on the second subplot\n",
    "sns.heatmap(merged_lexpect.corr(), ax=ax[1,0])\n",
    "ax[1,0].set_title(\"Life Expectancy\", fontsize=50)\n",
    "# plot the fourth heatmap on the second subplot\n",
    "sns.heatmap(merged_tech.corr(), ax=ax[1,1])\n",
    "ax[1,1].set_title(\"Technology\", fontsize=50)"
   ]
  },
  {
   "cell_type": "markdown",
   "metadata": {},
   "source": [
    "Group earthquakes according to whether they cause a tsunami or not, and plot."
   ]
  },
  {
   "cell_type": "code",
   "execution_count": 47,
   "metadata": {},
   "outputs": [
    {
     "data": {
      "image/png": "[encoded data removed]",
      "text/plain": [
       "<Figure size 1440x720 with 1 Axes>"
      ]
     },
     "metadata": {
      "needs_background": "light"
     },
     "output_type": "display_data"
    }
   ],
   "source": [
    "# Create a figure with a specified size\n",
    "plt.figure(figsize=(20,10))\n",
    "\n",
    "# Group the data by the \"Flag Tsunami\" column\n",
    "grouped = merged_economy.groupby(\"Flag Tsunami\")\n",
    "\n",
    "# Iterate over the groups and create a separate plot for each group\n",
    "for name, group in grouped:\n",
    "    if name == 1: name= \"Tsunami Occurs\"\n",
    "    else: name =\"Tsunami Not Occurs\"\n",
    "    plt.plot(group[\"Eq Primary\"], label=name)\n",
    "\n",
    "# Add labels and a title to the plot\n",
    "plt.ylabel('Magnitude Of The Earthquakes')\n",
    "plt.title('Distribution of Tsunami')\n",
    "\n",
    "# Add a legend to the plot\n",
    "plt.legend()\n",
    "\n",
    "# Show the plot\n",
    "plt.show()"
   ]
  },
  {
   "cell_type": "markdown",
   "metadata": {},
   "source": [
    "Above graph shows us Tsunamis occur more frequently in earthquakes with larger magnitudes."
   ]
  },
  {
   "cell_type": "markdown",
   "metadata": {},
   "source": [
    "***Research Questions and Proposed tests***"
   ]
  },
  {
   "cell_type": "markdown",
   "metadata": {},
   "source": [
    "**Research Question 1**: \\\n",
    "H0: There is no relationship between the financial damage received from earthquakes with a magnitude of 8 to 9 and the energy consumption in the year of the earthquake. \\\n",
    "H1: There is a relationship between the financial damage received from earthquakes with a magnitude of 8 to 9 and the energy consumption in the year of the earthquake."
   ]
  },
  {
   "cell_type": "code",
   "execution_count": 48,
   "metadata": {},
   "outputs": [
    {
     "name": "stdout",
     "output_type": "stream",
     "text": [
      "p_value: 0.008413264231901082\n"
     ]
    }
   ],
   "source": [
    "# Select the columns that we want to compare\n",
    "col1 = merged_energy[(merged_energy[\"Eq Primary\"] >8) & (merged_energy[\"Eq Primary\"] < 9)\\\n",
    "                    ]['Energy Consumption (Kwh)']\n",
    "col2 = merged_energy[(merged_energy[\"Eq Primary\"] >8) & (merged_energy[\"Eq Primary\"] < 9)\\\n",
    "                    ]['Total Damage Millions Dollars($)']\n",
    "\n",
    "# Calculate the Spearman rank correlation coefficient\n",
    "# It Examines the relationship between two numeric variables.\n",
    "coefficient, p_value = spearmanr(col1, col2)\n",
    "print(f\"p_value: {p_value}\")"
   ]
  },
  {
   "cell_type": "markdown",
   "metadata": {},
   "source": [
    "Since p-value is lower than 0.05, H0 hypothesis is rejected. So, H1 hypothesis is accepted."
   ]
  },
  {
   "cell_type": "code",
   "execution_count": 49,
   "metadata": {},
   "outputs": [
    {
     "data": {
      "image/png": "[encoded data removed]",
      "text/plain": [
       "<Figure size 720x360 with 1 Axes>"
      ]
     },
     "metadata": {
      "needs_background": "light"
     },
     "output_type": "display_data"
    }
   ],
   "source": [
    "# Create a figure with a specified size\n",
    "plt.figure(figsize=(10,5))\n",
    "\n",
    "# Extract the \"Energy Consumption Per Capita (Kwh)\" and \"Total Damage Millions Dollars\" columns from the dataframe, for rows where the \"Eq Primary\" column is between 8 and 9\n",
    "x = merged_energy[(merged_energy['Eq Primary'] > 8) & (merged_energy['Eq Primary'] < 9)]\\\n",
    "                  ['Energy Consumption (Kwh)']\n",
    "                  \n",
    "y = merged_energy[(merged_energy['Eq Primary'] > 8) & (merged_energy['Eq Primary'] < 9)]\\\n",
    "                  ['Total Damage Millions Dollars($)']\n",
    "\n",
    "# Plot a scatter plot using the extracted columns\n",
    "plt.scatter(x, y,s = 10)\n",
    "\n",
    "# Add labels and a title to the plot\n",
    "plt.xlabel('Energy Consumption')\n",
    "plt.ylabel('Total Damage Millions Dollars($)')\n",
    "plt.title('Energy Consumption vs. Total Damage Millions Dollars($)')\n",
    "\n",
    "# Display the plot\n",
    "plt.show()"
   ]
  },
  {
   "cell_type": "markdown",
   "metadata": {},
   "source": [
    "Result: As we can understand from above plot and founded p-value, there is relationship between energy consumption and received damage."
   ]
  },
  {
   "cell_type": "markdown",
   "metadata": {},
   "source": [
    "***Research Question 2:***"
   ]
  },
  {
   "cell_type": "markdown",
   "metadata": {},
   "source": [
    "**Question:** Is there a relationship between life expectancy in the year of the earthquake and total death from the earthquake."
   ]
  },
  {
   "cell_type": "markdown",
   "metadata": {},
   "source": [
    "**Hypothesis:** There is a relationship between life expectancy in the year of the earthquake and total death from the earthquake."
   ]
  },
  {
   "cell_type": "markdown",
   "metadata": {},
   "source": [
    "Possible ML Methods and Statistical Tests : \\\n",
    "ANOVA (Analysis of Variance),Chi-square test,Correlation analysis,Regression analysis,Scatter plots,Line plots,Box plots,Bar charts,Heat maps,Correlation Test"
   ]
  },
  {
   "cell_type": "markdown",
   "metadata": {},
   "source": [
    "***Research Question 3:***"
   ]
  },
  {
   "cell_type": "markdown",
   "metadata": {},
   "source": [
    "**Question:** Does the magnitude of earthquakes have an effect on whether a tsunami will rise or not?"
   ]
  },
  {
   "cell_type": "markdown",
   "metadata": {},
   "source": [
    "**Hypothesis:** Magnitude of earthquakes have an effect on whether a tsunami will rise or not."
   ]
  },
  {
   "cell_type": "markdown",
   "metadata": {},
   "source": [
    "Possible ML Methods and Statistical Tests : \\\n",
    "Classification,Correlation analysis,Multiple regression analysis,Survival analysis,Logistic regression, Chi-square test"
   ]
  },
  {
   "cell_type": "markdown",
   "metadata": {},
   "source": [
    "***Research Question 4:***"
   ]
  },
  {
   "cell_type": "markdown",
   "metadata": {},
   "source": [
    "**Question:** Is there a relationship between the financial damage received from earthquakes with the economy in the year of the earthquake?"
   ]
  },
  {
   "cell_type": "markdown",
   "metadata": {},
   "source": [
    "**Hypothesis:** There is a relationship between the financial damage received from earthquakes with the economy in the year of the earthquake."
   ]
  },
  {
   "cell_type": "markdown",
   "metadata": {},
   "source": [
    "Possible ML Methods and Statistical Tests : \\\n",
    "Correlation analysis,Multiple regression analysis,Panel data analysis,Time series analysis,Survival analysis,Structural equation modeling"
   ]
  },
  {
   "cell_type": "markdown",
   "metadata": {},
   "source": [
    "***Potential Product***"
   ]
  },
  {
   "cell_type": "markdown",
   "metadata": {},
   "source": [
    "According to the changes in the characteristics of the countries over the years, a forecast is made for the future, and with respect to this, it is predicted how the damage to be taken from the earthquake will change. Thanks to this, governments may adjust their earthquake budget according to these results."
   ]
  },
  {
   "cell_type": "markdown",
   "metadata": {},
   "source": [
    "***Issues related to data engineering:***"
   ]
  },
  {
   "cell_type": "markdown",
   "metadata": {},
   "source": [
    "**Data quality and reliability:** The service affects the budgets of countries. The changes in the budgets benefit or damage the countries significantly. So, the quality and reliability of the data are critical. Regularly, these issues should be controlled."
   ]
  },
  {
   "cell_type": "markdown",
   "metadata": {},
   "source": [
    "**Data integration and interoperability:** Within the project, different datasets from various sources are used. Therefore, these datasets should be merged appropriately and formed to be interoperable. For that, the cleaning and organizing of data are necessary."
   ]
  },
  {
   "cell_type": "markdown",
   "metadata": {},
   "source": [
    "**Data management and governance:** In order to guarantee that data is accurate, consistent, and in compliance with applicable legislation and policies, sound data management and governance processes are required. Regularly, quality control processes should occur."
   ]
  },
  {
   "cell_type": "markdown",
   "metadata": {},
   "source": [
    "**Data processing and analysis:** In order to make predictions, data needs to be processed and analyzed.\n",
    "Data storage and management: To guarantee that data can be accessed, searched, and updated effectively, it is crucial to have a solid and scalable data storage system in place."
   ]
  },
  {
   "cell_type": "markdown",
   "metadata": {},
   "source": [
    "***Issues related to ethics:***"
   ]
  },
  {
   "cell_type": "markdown",
   "metadata": {},
   "source": [
    "Which laws and regulations might be applicable to our project? \\\n",
    "Which laws and regulations of countries may be related to our project, these laws and regulations should be considered. These may restrict some usage of data to protect countries.\n"
   ]
  },
  {
   "cell_type": "markdown",
   "metadata": {},
   "source": [
    "How do we know that the data is valid for its intended use? \\\n",
    "While cleaning and organizing data, removing missing values or records with missing values may lead to increase bias. So, the data which is fit to for the purpose should be used within the project."
   ]
  },
  {
   "cell_type": "markdown",
   "metadata": {},
   "source": [
    "How are we achieving ethical accountability? \\\n",
    "The results of the product may affect countries remarkably, and also cause harm such as inconsistent effects on budgets. Therefore, the person who will be responsible for the damages that may arise should be clearly stated."
   ]
  },
  {
   "cell_type": "markdown",
   "metadata": {},
   "source": [
    "***Conclusion:*** "
   ]
  },
  {
   "cell_type": "markdown",
   "metadata": {},
   "source": [
    "Various datasets are prepared to examine the relationship between various indices showing the development of countries and damage received from earthquakes. Many different visualization techniques are applied, and data is shown clearly. The relationship between the financial damage received from earthquakes with a magnitude of 8 to 9 and the energy consumption in the year of the earthquake is examined and the hypothesis of this is accepted. As we can see in our hypothesis, there is a relationship between energy consumption, which is one of the factors showing the level of development of countries, and damage from earthquakes. Known various indices showing the development of countries can provide foresight to the states in estimating earthquake damage."
   ]
  }
 ],
 "metadata": {
  "colab": {
   "provenance": []
  },
  "kernelspec": {
   "display_name": "Python 3 (ipykernel)",
   "language": "python",
   "name": "python3"
  },
  "language_info": {
   "codemirror_mode": {
    "name": "ipython",
    "version": 3
   },
   "file_extension": ".py",
   "mimetype": "text/x-python",
   "name": "python",
   "nbconvert_exporter": "python",
   "pygments_lexer": "ipython3",
   "version": "3.9.12"
  }
 },
 "nbformat": 4,
 "nbformat_minor": 1
}
